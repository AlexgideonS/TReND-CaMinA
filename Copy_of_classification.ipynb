{
  "cells": [
    {
      "cell_type": "markdown",
      "metadata": {
        "id": "view-in-github",
        "colab_type": "text"
      },
      "source": [
        "<a href=\"https://colab.research.google.com/github/AlexgideonS/TReND-CaMinA/blob/main/Copy_of_classification.ipynb\" target=\"_parent\"><img src=\"https://colab.research.google.com/assets/colab-badge.svg\" alt=\"Open In Colab\"/></a>"
      ]
    },
    {
      "cell_type": "markdown",
      "id": "f87d91bc",
      "metadata": {
        "id": "f87d91bc"
      },
      "source": [
        "# **Classification**  [![Open In Colab](https://colab.research.google.com/assets/colab-badge.svg)](https://colab.research.google.com/github/egokcen/TReND-CaMinA/blob/main/notebooks/Zambia25/17-Thu-Classification/classification.ipynb)\n",
        "\n",
        "<img align=\"left\" width=\"100\" src=\"https://raw.githubusercontent.com/trendinafrica/TReND-CaMinA/main/images/CaMinA_logo.png\">\n",
        "\n",
        "### **TReND-CaMinA: Computational Neuroscience and Machine Learning Summer School, Zambia 2025**\n",
        "#### **Content creator:** Evren Gokcen, Carnegie Mellon University\n",
        "\n",
        "---\n",
        "\n",
        "## **Overview**\n",
        "In this lesson, we will learn about **classification** methods. Classification methods are used to predict discrete labels (or classes) from data. Classification is a fundamental task in machine learning and is widely used in neuroscience to decode brain activity patterns.\n",
        "\n",
        "In this notebook, you will decode a monkey's intended arm reach angle from neurons recorded in motor area PMd.\n",
        "\n",
        "<center><img src=\"https://github.com/egokcen/TReND-CaMinA/blob/main/notebooks/Zambia25/17-Thu-Classification/logistic_regression_animation1D.gif?raw=1\" width=500><img src=\"https://github.com/egokcen/TReND-CaMinA/blob/main/notebooks/Zambia25/17-Thu-Classification/logistic_regression_animation2D.gif?raw=1\" width=500></center>\n",
        "\n",
        "## **Learning objectives / key questions**\n",
        "1. Why is it possible to decode external variables (like movement direction, or visual stimulus identity) from neural activity?\n",
        "2. What is binary classification? And what are two fundamental approaches to solving this problem?\n",
        "3. What are decision boundaries and decision regions, and how are they used in classification?\n",
        "4. What is the nearest neighbors method, and how do I implement it for one- and two-dimensional data?\n",
        "5. What is logistic regression, and how do I implement it for one- and two-dimensional data?\n",
        "6. How are nearest neighbors methods and logistic regression similar and different? And what are the strength and limitations of each method?\n",
        "\n",
        "## **Contents**\n",
        "\n",
        "**Core topics:**\n",
        "\n",
        "0. [Import dependencies and data](#dependencies)\n",
        "1. [Introduction: Decoding movement intention in the motor system](#introduction)\n",
        "2. [Nearest neighbors classification](#nearest-neighbors)\n",
        "3. [Logistic regression](#logistic-regression)\n",
        "\n",
        "**Bonus topics:**\n",
        "\n",
        "1. [Population decoding](#population-decoding)\n",
        "2. [Combining classification and PCA](#class-pca)\n",
        "3. [Multiclass classification](#multiclass)\n",
        "4. [Further reading](#further-reading)"
      ]
    },
    {
      "cell_type": "markdown",
      "id": "fbkNfeNCedVK",
      "metadata": {
        "id": "fbkNfeNCedVK"
      },
      "source": [
        "## 0. Import dependencis and data <a name=\"dependencies\"></a>"
      ]
    },
    {
      "cell_type": "code",
      "execution_count": null,
      "id": "7L6I1xl8ejiy",
      "metadata": {
        "id": "7L6I1xl8ejiy"
      },
      "outputs": [],
      "source": [
        "# If running in Colab, mount the drive folder\n",
        "COLAB = False\n",
        "if COLAB:\n",
        "    from google.colab import drive\n",
        "    drive.mount('/content/drive')"
      ]
    },
    {
      "cell_type": "code",
      "execution_count": null,
      "id": "92c267a8",
      "metadata": {
        "id": "92c267a8"
      },
      "outputs": [],
      "source": [
        "#!pip install numpy scipy matplotlib ipywidgets\n",
        "\n",
        "%load_ext autoreload\n",
        "%autoreload 2\n",
        "\n",
        "import numpy as np\n",
        "import ipywidgets as widgets\n",
        "import matplotlib.pyplot as plt\n",
        "import scipy.io as spio\n",
        "\n",
        "from collections import Counter\n",
        "from ipywidgets import interact\n",
        "from matplotlib.animation import FuncAnimation"
      ]
    },
    {
      "cell_type": "markdown",
      "id": "bd67331e",
      "metadata": {
        "id": "bd67331e"
      },
      "source": [
        "## Introduction: Decoding movement intention in the motor system <a name=\"introduction\"></a>"
      ]
    },
    {
      "cell_type": "markdown",
      "id": "8cc204c1",
      "metadata": {
        "id": "8cc204c1"
      },
      "source": [
        "Let's start where we left off yesterday, with dimensionality reduction.\n",
        "Recall yesterday's data $^1$ (`data_for_exercises.mat`, on the Google Drive), which\n",
        "contains the following variable:\n",
        "- `Xplan`: a 2D array of shape `(n, d)`. Here we have `n = 728` trials and `d = 97`\n",
        "neurons recorded simultaneously in area PMd. `Xplan[i, j]` is the spike count of neuron\n",
        "`j` on trial `i`, taken within a 200 ms bin while the monkey is planning an arm reach.\n",
        "There are 91 trials for each of 8 reaching angles. Trials are ordered by angle, so the\n",
        "first 91 trials are for angle 0, the next 91 trials are for angle 45, and so on.\n",
        "\n",
        "1. The neural data have been generously provided by the laboratory of Prof. Krishna\n",
        "Shenoy at Stanford University. The data are to be used exclusively for educational\n",
        "purposes in this course.\n"
      ]
    },
    {
      "cell_type": "markdown",
      "id": "1c74f425",
      "metadata": {
        "id": "1c74f425"
      },
      "source": [
        "### Revisiting PCA <a name=\"\"></a>"
      ]
    },
    {
      "cell_type": "markdown",
      "id": "RHhUKatjfPcN",
      "metadata": {
        "id": "RHhUKatjfPcN"
      },
      "source": [
        "#### Load the data"
      ]
    },
    {
      "cell_type": "code",
      "execution_count": null,
      "id": "978c816b",
      "metadata": {
        "colab": {
          "base_uri": "https://localhost:8080/"
        },
        "id": "978c816b",
        "outputId": "7b25aad6-34f7-46d1-c2b3-87a0f6f08501"
      },
      "outputs": [
        {
          "output_type": "stream",
          "name": "stdout",
          "text": [
            "Xplan dimensions: (n trials, d neurons)\n",
            "(728, 97)\n"
          ]
        }
      ],
      "source": [
        "# Set paths to data file\n",
        "datapath  = '' # add your path here\n",
        "datafile  = 'data_for_exercises.mat'\n",
        "\n",
        "# Load the Matlab format .mat data into Python\n",
        "mat = spio.loadmat(datapath + datafile, squeeze_me=True)\n",
        "Xplan = mat['Xplan']\n",
        "# Convert the data from uint8 to float64\n",
        "Xplan = Xplan.astype(np.float64)\n",
        "\n",
        "# Check the shape of the data\n",
        "n, d = Xplan.shape\n",
        "print('Xplan dimensions: (n trials, d neurons)')\n",
        "print((n, d))\n",
        "\n",
        "# Other basic constants\n",
        "num_reaches_per_angle = 91\n",
        "num_angles = 8\n",
        "angles = [30.0, 70.0, 110.0, 150.0, 190.0, 230.0, 310.0, 350.0]  # In degrees"
      ]
    },
    {
      "cell_type": "markdown",
      "id": "70c84c24",
      "metadata": {
        "id": "70c84c24"
      },
      "source": [
        "#### Compute the sample covariance and diagonalize it (PCA)\n",
        "\n",
        "Recall that the sample covariance matrix\n",
        "$S = \\frac{1}{n} \\sum_i (\\boldsymbol{x}_i-\\boldsymbol{\\mu})(\\boldsymbol{x}_i-\\boldsymbol{\\mu})^{\\intercal}$,\n",
        "and the sample mean $\\boldsymbol{\\mu} = \\frac{1}{n} \\sum_i \\boldsymbol{x}_i$."
      ]
    },
    {
      "cell_type": "code",
      "execution_count": null,
      "id": "7cdefa44",
      "metadata": {
        "id": "7cdefa44"
      },
      "outputs": [],
      "source": [
        "# First find the mean over trials (axis=0) of each neuron\n",
        "mu = np.mean(Xplan, axis=0)\n",
        "\n",
        "# Now compute the data covariance\n",
        "Xplan_centered = Xplan - mu  # Don't forget to center your data first!\n",
        "cov = (1/n) * Xplan_centered.T @ Xplan_centered  # Now you can compute the covariance\n",
        "\n",
        "# Perform eigendecomposition of the data covariance\n",
        "D, U = np.linalg.eig(cov)  # D = vector of eigenvalues, U = matrix of eigenvectors\n",
        "\n",
        "# Make sure the eigenvalues are sorted (in descending order)\n",
        "idx = np.argsort(D)[::-1]\n",
        "D = D[idx]\n",
        "\n",
        "# Arrange the eigenvectors according to the magnitude of the eigenvalues\n",
        "U = U[:, idx]"
      ]
    },
    {
      "cell_type": "markdown",
      "id": "af2070a0",
      "metadata": {
        "id": "af2070a0"
      },
      "source": [
        "#### Project the data onto the top 3 principal components and visualize\n",
        "\n",
        "Recall that projections of the data points $\\boldsymbol{x}_i \\in \\mathbb{R}^d$ into the\n",
        "three-dimensional PC space are given by the PC scores, $\\boldsymbol{z}_i \\in \\mathbb{R}^3$, where $z_k^i = \\boldsymbol{u}_k^{\\intercal} (\\boldsymbol{x}_i - \\boldsymbol{\\mu})$, $k=1,2,3$."
      ]
    },
    {
      "cell_type": "code",
      "execution_count": null,
      "id": "6db79a40",
      "metadata": {
        "colab": {
          "base_uri": "https://localhost:8080/",
          "height": 435
        },
        "id": "6db79a40",
        "outputId": "4f65168e-a5ae-4fd4-db21-b9013999a1ab"
      },
      "outputs": [
        {
          "output_type": "display_data",
          "data": {
            "text/plain": [
              "<Figure size 640x480 with 1 Axes>"
            ],
            "image/png": "[encoded data removed]"
          },
          "metadata": {}
        }
      ],
      "source": [
        "colors = ['r', 'k', 'y', 'g', 'b', 'm', 'c', 'darkviolet']\n",
        "\n",
        "fig = plt.figure()\n",
        "ax = fig.add_subplot(projection='3d')\n",
        "\n",
        "for reach_idx in range(num_angles):\n",
        "  # Get the trials corresponding to the current reach angle\n",
        "  trial_idxs = np.arange(0,num_reaches_per_angle,1) + (reach_idx)*num_reaches_per_angle\n",
        "  X = Xplan_centered[trial_idxs,:]\n",
        "  ax.scatter(X @ U[:, 0], X @ U[:, 1], X @ U[:, 2], '.', color=colors[reach_idx])\n",
        "\n",
        "ax.set_xlabel('PC 1')\n",
        "ax.set_ylabel('PC 2')\n",
        "ax.set_zlabel('PC 3')\n",
        "\n",
        "plt.title('Reach data projected into three-dimensional PC space');"
      ]
    },
    {
      "cell_type": "markdown",
      "id": "f685986c",
      "metadata": {
        "id": "f685986c"
      },
      "source": [
        "**_💬 Discussion questions:_**\n",
        "\n",
        "1. What is striking about these projections?\n",
        "2. What property of PMd neurons might lead to this pattern?"
      ]
    },
    {
      "cell_type": "markdown",
      "id": "f5afd5d4",
      "metadata": {
        "id": "f5afd5d4"
      },
      "source": [
        "### Tuning curves\n",
        "\n",
        "Let's take a step back from PCA and compute tuning curves for each neuron.\n",
        "Recall that the tuning curve of a neuron is the average firing rate of the neuron (over\n",
        "trials) as a function of the reach angle."
      ]
    },
    {
      "cell_type": "code",
      "execution_count": null,
      "id": "aecdfb89",
      "metadata": {
        "colab": {
          "base_uri": "https://localhost:8080/",
          "height": 307
        },
        "id": "aecdfb89",
        "outputId": "cc338263-86f9-4b57-c0dc-833d745584cd"
      },
      "outputs": [
        {
          "output_type": "display_data",
          "data": {
            "text/plain": [
              "<Figure size 500x300 with 1 Axes>"
            ],
            "image/png": "[encoded data removed]"
          },
          "metadata": {}
        }
      ],
      "source": [
        "# It's helpful here to reshape the data into a 3D array, with an extra axis for the\n",
        "# reach angle\n",
        "Xplan_angles = Xplan.reshape((num_angles, num_reaches_per_angle, d))\n",
        "\n",
        "# Now we can compute the average firing rate for each neuron at each reach angle\n",
        "tuning_curves = np.mean(Xplan_angles, axis=1)\n",
        "# Compute also the standard error of the mean (SEM) for each neuron at each reach angle\n",
        "sem_tuning_curves = np.std(Xplan_angles, axis=1) / np.sqrt(num_reaches_per_angle)\n",
        "\n",
        "# let's pick a few neurons that might be particularly well tuned\n",
        "num_examples = 3\n",
        "mean_firing_rates = np.mean(tuning_curves, axis=0)\n",
        "# Here we'll choose neurons based on their contribution to one of the PCs\n",
        "top_neurons = np.argsort(np.abs(U[:, 2]))[-num_examples:]\n",
        "\n",
        "fig, ax = plt.subplots(figsize=(5, 3))\n",
        "for i in range(num_examples):\n",
        "    # Plot error bands for the SEM\n",
        "    ax.fill_between(\n",
        "        angles,\n",
        "        tuning_curves[:, top_neurons[i]] - sem_tuning_curves[:, top_neurons[i]],\n",
        "        tuning_curves[:, top_neurons[i]] + sem_tuning_curves[:, top_neurons[i]],\n",
        "        alpha=0.2,\n",
        "    )\n",
        "    # Plot the tuning curve\n",
        "    ax.plot(\n",
        "        angles,\n",
        "        tuning_curves[:, top_neurons[i]],\n",
        "        label=f'Neuron {top_neurons[i]}',\n",
        "    )\n",
        "ax.set_xlabel('Reach Angle (deg)')\n",
        "ax.set_ylabel('Average Spike Count')\n",
        "ax.set_title('Example Tuning Curves')\n",
        "ax.legend(loc='upper left', bbox_to_anchor=(1, 1), frameon=False)\n",
        "plt.tight_layout()\n",
        "plt.show()"
      ]
    },
    {
      "cell_type": "code",
      "source": [
        "angles"
      ],
      "metadata": {
        "id": "96aoOwjAZmTI",
        "outputId": "dfed2648-5ae7-47a5-d35c-f6d0bc7a648a",
        "colab": {
          "base_uri": "https://localhost:8080/"
        }
      },
      "id": "96aoOwjAZmTI",
      "execution_count": null,
      "outputs": [
        {
          "output_type": "execute_result",
          "data": {
            "text/plain": [
              "[30.0, 70.0, 110.0, 150.0, 190.0, 230.0, 310.0, 350.0]"
            ]
          },
          "metadata": {},
          "execution_count": 7
        }
      ]
    },
    {
      "cell_type": "markdown",
      "id": "ab85e0ec",
      "metadata": {
        "id": "ab85e0ec"
      },
      "source": [
        "**_💬 Discussion questions:_**\n",
        "\n",
        "- What is the shape of the tuning curves? How does that relate to the nature of reach angles?"
      ]
    },
    {
      "cell_type": "markdown",
      "id": "32f75192",
      "metadata": {
        "id": "32f75192"
      },
      "source": [
        "## Nearest neighbors classification <a name=\"nearest-neighbors\"></a>\n",
        "\n",
        "Given how nicely the neural responses appear to be organized according to reach angle,\n",
        "both based on PCA and tuning curves, perhaps we can use this information to\n",
        "decode, or classify, the reach angle from the neural responses.\n",
        "\n",
        "We'll start our journey with the Nearest Neighbors classifier."
      ]
    },
    {
      "cell_type": "markdown",
      "id": "3c8d3b2e",
      "metadata": {
        "id": "3c8d3b2e"
      },
      "source": [
        "### Binary classification with one neuron\n",
        "\n",
        "To warm up, let's simplify the problem first:\n",
        "1. Let's consider only two reach angles. We are thus interested in\n",
        "   *binary classification*.\n",
        "2. Let's consider only one neuron's response, and see how far we can get in decoding."
      ]
    },
    {
      "cell_type": "code",
      "source": [],
      "metadata": {
        "id": "JIBhGPO5ax5Z"
      },
      "id": "JIBhGPO5ax5Z",
      "execution_count": null,
      "outputs": []
    },
    {
      "cell_type": "code",
      "execution_count": null,
      "id": "849cae74",
      "metadata": {
        "colab": {
          "base_uri": "https://localhost:8080/",
          "height": 410
        },
        "id": "849cae74",
        "outputId": "b2a844cc-38c6-49dc-a122-e9f43c77ee57"
      },
      "outputs": [
        {
          "output_type": "display_data",
          "data": {
            "text/plain": [
              "<Figure size 800x400 with 1 Axes>"
            ],
            "image/png": "[encoded data removed]"
          },
          "metadata": {}
        }
      ],
      "source": [
        "neuron_idx = 91  # The neuron we'll use for binary classification\n",
        "reach_idx1 = 0  # First reach angle\n",
        "reach_idx2 = 3  # Second reach angle\n",
        "\n",
        "# Extract the data for the two angles\n",
        "X_reach1 = Xplan_angles[reach_idx1, :, neuron_idx]\n",
        "X_reach2 = Xplan_angles[reach_idx2, :, neuron_idx]\n",
        "\n",
        "# Let's create a label vector for the two angles\n",
        "y_reach1 = np.zeros(X_reach1.shape[0])  # Label for the first angle\n",
        "y_reach2 = np.ones(X_reach2.shape[0])  # Label for the second angle\n",
        "\n",
        "# Let's also randomly split the data into training and test sets.\n",
        "# We'll keep the same number of trials for each angle.\n",
        "n_train = int(0.8 * num_reaches_per_angle)  # 80% for training\n",
        "# Seed the random number generator for reproducibility\n",
        "np.random.seed(2)\n",
        "train_idxs = np.random.choice(num_reaches_per_angle, n_train, replace=False)\n",
        "# This function just returns the indices that are not already in the training set\n",
        "test_idxs = np.setdiff1d(np.arange(num_reaches_per_angle), train_idxs)\n",
        "\n",
        "# Train data\n",
        "X_train_reach1 = X_reach1[train_idxs]\n",
        "X_train_reach2 = X_reach2[train_idxs]\n",
        "y_train_reach1 = y_reach1[train_idxs]\n",
        "y_train_reach2 = y_reach2[train_idxs]\n",
        "\n",
        "# Test data\n",
        "X_test_reach1 = X_reach1[test_idxs]\n",
        "X_test_reach2 = X_reach2[test_idxs]\n",
        "y_test_reach1 = y_reach1[test_idxs]\n",
        "y_test_reach2 = y_reach2[test_idxs]\n",
        "\n",
        "# Visualize the responses on each trial\n",
        "#sns.set_style('darkgrid')\n",
        "plt.figure(figsize=(8, 4))\n",
        "# Spike counts are integer values, and so many data points will overlap.\n",
        "# Let's add an offset and a small amount of jitter to the y-axis, purely for\n",
        "# visualization purposes.\n",
        "plt.plot(\n",
        "    X_train_reach1,\n",
        "    -0.1 + np.random.normal(0, 0.02, size=y_train_reach1.shape),\n",
        "    'r.',\n",
        "    label=f'{angles[reach_idx1]}° reach',\n",
        ")\n",
        "plt.plot(\n",
        "    X_train_reach2,\n",
        "    0.1 + np.random.normal(0, 0.02, size=y_train_reach2.shape),\n",
        "    'b.',\n",
        "    label=f'{angles[reach_idx2]}° reach',\n",
        ")\n",
        "plt.ylim(-0.5, 0.5)\n",
        "plt.xlabel('Spike Count')\n",
        "# Remove the y-ticks since they are not informative in this case\n",
        "plt.yticks([])\n",
        "plt.title(f'Responses for Two Reach Angles, Neuron {neuron_idx}')\n",
        "plt.legend()\n",
        "plt.show()"
      ]
    },
    {
      "cell_type": "code",
      "source": [],
      "metadata": {
        "id": "uC4ct7T4badW",
        "outputId": "da4d4b59-54aa-49f1-bb7b-fb5629b33152",
        "colab": {
          "base_uri": "https://localhost:8080/",
          "height": 570
        }
      },
      "id": "uC4ct7T4badW",
      "execution_count": null,
      "outputs": [
        {
          "output_type": "error",
          "ename": "NameError",
          "evalue": "name 'sns' is not defined",
          "traceback": [
            "\u001b[0;31m---------------------------------------------------------------------------\u001b[0m",
            "\u001b[0;31mNameError\u001b[0m                                 Traceback (most recent call last)",
            "\u001b[0;32m/tmp/ipython-input-11-3105928649.py\u001b[0m in \u001b[0;36m<cell line: 0>\u001b[0;34m()\u001b[0m\n\u001b[1;32m     43\u001b[0m     \u001b[0mlabel\u001b[0m\u001b[0;34m=\u001b[0m\u001b[0;34mf'{angles[reach_idx1]}° reach'\u001b[0m\u001b[0;34m,\u001b[0m\u001b[0;34m\u001b[0m\u001b[0;34m\u001b[0m\u001b[0m\n\u001b[1;32m     44\u001b[0m )\n\u001b[0;32m---> 45\u001b[0;31m sns.swarmplot(\n\u001b[0m\u001b[1;32m     46\u001b[0m     \u001b[0mx\u001b[0m\u001b[0;34m=\u001b[0m\u001b[0mX_train_reach2\u001b[0m\u001b[0;34m\u001b[0m\u001b[0;34m\u001b[0m\u001b[0m\n\u001b[1;32m     47\u001b[0m )\n",
            "\u001b[0;31mNameError\u001b[0m: name 'sns' is not defined"
          ]
        },
        {
          "output_type": "display_data",
          "data": {
            "text/plain": [
              "<Figure size 800x400 with 1 Axes>"
            ],
            "image/png": "[encoded data removed]"
          },
          "metadata": {}
        }
      ]
    },
    {
      "cell_type": "markdown",
      "id": "e75d0f92",
      "metadata": {
        "id": "e75d0f92"
      },
      "source": [
        "It looks like these neural responses have decent separation by the two angles!\n",
        "\n",
        "What if we bring in a few test points?"
      ]
    },
    {
      "cell_type": "code",
      "execution_count": null,
      "id": "3a730574",
      "metadata": {
        "colab": {
          "base_uri": "https://localhost:8080/",
          "height": 410
        },
        "id": "3a730574",
        "outputId": "e10f9873-af71-481c-a77c-9bc407d00cf9"
      },
      "outputs": [
        {
          "output_type": "display_data",
          "data": {
            "text/plain": [
              "<Figure size 800x400 with 1 Axes>"
            ],
            "image/png": "[encoded data removed]"
          },
          "metadata": {}
        }
      ],
      "source": [
        "reach1_tests = [0, 8]  # Test trial indices\n",
        "reach2_tests = [0, 1]\n",
        "\n",
        "# Replot the training data\n",
        "plt.figure(figsize=(8, 4))\n",
        "# Spike counts are integer values, and so many data points will overlap.\n",
        "# Let's add an offset and a small amount of jitter to the y-axis, purely for\n",
        "# visualization purposes.\n",
        "plt.plot(\n",
        "    X_train_reach1,\n",
        "    -0.1 + np.random.normal(0, 0.02, size=y_train_reach1.shape),\n",
        "    'r.',\n",
        "    label=f'{angles[reach_idx1]}° reach',\n",
        ")\n",
        "plt.plot(\n",
        "    X_train_reach2,\n",
        "    0.1 + np.random.normal(0, 0.02, size=y_train_reach2.shape),\n",
        "    'b.',\n",
        "    label=f'{angles[reach_idx2]}° reach',\n",
        ")\n",
        "# And plot the test points\n",
        "for test_trial_idx in reach1_tests:\n",
        "    plt.plot(X_test_reach1[test_trial_idx], 0.2, '*', markersize=12)\n",
        "for test_trial_idx in reach2_tests:\n",
        "    plt.plot(X_test_reach2[test_trial_idx], 0.2, '*', markersize=12)\n",
        "plt.ylim(-0.5, 0.5)\n",
        "plt.xlabel('Spike Count')\n",
        "# Remove the y-ticks since they are not informative in this case\n",
        "plt.yticks([])\n",
        "plt.title(f'Responses for Two Reach Angles, Neuron {neuron_idx}')\n",
        "plt.legend()\n",
        "plt.show()"
      ]
    },
    {
      "cell_type": "markdown",
      "id": "80d5b229",
      "metadata": {
        "id": "80d5b229"
      },
      "source": [
        "**_💬 Discussion questions:_**\n",
        "\n",
        "- How would you classify each of these test points? Why?"
      ]
    },
    {
      "cell_type": "markdown",
      "id": "d86f931b",
      "metadata": {
        "id": "d86f931b"
      },
      "source": [
        "#### Nearest neighbors classification: A simple majority vote\n",
        "\n",
        "We can formalize some of the intuitive principles you likely used above to get the\n",
        "Nearest Neighbors classifier. In essence, the Nearest Neighbors classifier works\n",
        "as follows: given a test data point, find the *k* training data points that are closest\n",
        "to it, and those neighbors \"choose\" the class label of the test point by majority vote.\n",
        "\n",
        "We'll then need three key components to implement this:\n",
        "\n",
        "1. **Distance Metric**: We need a way to measure the distance or similarity between data\n",
        "   points.\n",
        "2. **k-Nearest Neighbors**: For a given test instance, we need to identify the k\n",
        "   training data points that are closest to it.\n",
        "3. **Majority Vote**: We need to identify the most common class label among the k\n",
        "   nearest neighbors and assign that label to the test instance."
      ]
    },
    {
      "cell_type": "markdown",
      "id": "53372abd",
      "metadata": {
        "id": "53372abd"
      },
      "source": [
        "**_📝 Exercise_**\n",
        "\n",
        "Let's start by creating a base KNN class. Wherever you see a `TODO` (there are **three**), attempt to fill in that line of code.\n",
        "\n",
        "You can find the solution below."
      ]
    },
    {
      "cell_type": "code",
      "execution_count": null,
      "id": "lHq2nlXPjN_p",
      "metadata": {
        "id": "lHq2nlXPjN_p"
      },
      "outputs": [],
      "source": [
        "class KNNBase:\n",
        "    def __init__(self, k: int = 3):\n",
        "        \"\"\"\n",
        "        Initialize the KNN classifier with one hyperparameter: k.\n",
        "\n",
        "        Parameters\n",
        "        ----------\n",
        "        k : int\n",
        "            The number of nearest neighbors to consider for classification. Default: 3.\n",
        "        \"\"\"\n",
        "        self.k = k\n",
        "\n",
        "    def fit(self, X: np.ndarray, y: np.ndarray):\n",
        "        \"\"\"\n",
        "        Fit the model to the training data.\n",
        "\n",
        "        For the KNN classifier, \"fitting\" simply stores the training data and labels.\n",
        "\n",
        "        Parameters\n",
        "        ----------\n",
        "        X : numpy array, shape (n, d)\n",
        "            The training data, with n samples and d features.\n",
        "        y : numpy array, shape (n,)\n",
        "            The labels corresponding to the training data.\n",
        "        \"\"\"\n",
        "        self.X_train = X  # TODO\n",
        "        self.y_train = y  # TODO\n",
        "\n",
        "    def distance(self, x1: np.ndarray, x2: np.ndarray) -> float:\n",
        "        \"\"\"\n",
        "        Compute the distance between two points.\n",
        "\n",
        "        Parameters\n",
        "        ----------\n",
        "        x1 : numpy array\n",
        "            The first point.\n",
        "        x2 : numpy array\n",
        "            The second point.\n",
        "\n",
        "        Returns\n",
        "        -------\n",
        "        float\n",
        "            The distance between the two points.\n",
        "        \"\"\"\n",
        "        # We'll implement this later\n",
        "        pass\n",
        "\n",
        "    def predict(self, x: np.ndarray) -> int:\n",
        "        \"\"\"\n",
        "        Predict the labels for a single input data point.\n",
        "\n",
        "        Parameters\n",
        "        ----------\n",
        "        x : numpy array, shape (d,)\n",
        "            A single input data point for which to predict the label.\n",
        "\n",
        "        Returns\n",
        "        -------\n",
        "        y_pred : int\n",
        "            The predicted label for the input data point.\n",
        "        \"\"\"\n",
        "        # Compute the distances from the input point to all training points\n",
        "        distances = [self.distance(x, x_train) for x_train in self.X_train]\n",
        "\n",
        "        # Get the closest k neighbors\n",
        "        k_indices = np.argsort(distances)[:self.k]  # TODO - Hint: Use the np.argsort function\n",
        "        k_nearest_labels = [self.y_train[i] for i in k_indices]\n",
        "\n",
        "        # Majority vote\n",
        "        most_common = Counter(k_nearest_labels).most_common()\n",
        "        return most_common[0][0]\n",
        "\n",
        "    def predict_batch(self, X: np.ndarray) -> np.ndarray:\n",
        "        \"\"\"\n",
        "        Predict the labels for a batch of input data points.\n",
        "\n",
        "        Parameters\n",
        "        ----------\n",
        "        X : numpy array, shape (n, d)\n",
        "            The input data for which to predict labels.\n",
        "\n",
        "        Returns\n",
        "        -------\n",
        "        y_pred : numpy array, shape (n,)\n",
        "            The predicted labels for the input data batch.\n",
        "        \"\"\"\n",
        "        return np.array([self.predict(x) for x in X])"
      ]
    },
    {
      "cell_type": "code",
      "source": [],
      "metadata": {
        "id": "g-v_cIii167Q"
      },
      "id": "g-v_cIii167Q",
      "execution_count": null,
      "outputs": []
    },
    {
      "cell_type": "code",
      "execution_count": null,
      "id": "64f43a5b",
      "metadata": {
        "id": "64f43a5b"
      },
      "outputs": [],
      "source": [
        "#@title Double click to see solution {display-mode: \"form\" }\n",
        "class KNNBase:\n",
        "    def __init__(self, k: int = 3):\n",
        "        \"\"\"\n",
        "        Initialize the KNN classifier with one hyperparameter: k.\n",
        "\n",
        "        Parameters\n",
        "        ----------\n",
        "        k : int\n",
        "            The number of nearest neighbors to consider for classification. Default: 3.\n",
        "        \"\"\"\n",
        "        self.k = k\n",
        "\n",
        "    def fit(self, X: np.ndarray, y: np.ndarray):\n",
        "        \"\"\"\n",
        "        Fit the model to the training data.\n",
        "\n",
        "        For the KNN classifier, \"fitting\" simply stores the training data and labels.\n",
        "\n",
        "        Parameters\n",
        "        ----------\n",
        "        X : numpy array, shape (n, d)\n",
        "            The training data, with n samples and d features.\n",
        "        y : numpy array, shape (n,)\n",
        "            The labels corresponding to the training data.\n",
        "        \"\"\"\n",
        "        self.X_train = X  # SOLUTION\n",
        "        self.y_train = y  # SOLUTION\n",
        "\n",
        "    def distance(self, x1: np.ndarray, x2: np.ndarray) -> float:\n",
        "        \"\"\"\n",
        "        Compute the distance between two points.\n",
        "\n",
        "        Parameters\n",
        "        ----------\n",
        "        x1 : numpy array\n",
        "            The first point.\n",
        "        x2 : numpy array\n",
        "            The second point.\n",
        "\n",
        "        Returns\n",
        "        -------\n",
        "        float\n",
        "            The distance between the two points.\n",
        "        \"\"\"\n",
        "        pass\n",
        "\n",
        "    def predict(self, x: np.ndarray) -> int:\n",
        "        \"\"\"\n",
        "        Predict the labels for a single input data point.\n",
        "\n",
        "        Parameters\n",
        "        ----------\n",
        "        x : numpy array, shape (d,)\n",
        "            A single input data point for which to predict the label.\n",
        "\n",
        "        Returns\n",
        "        -------\n",
        "        y_pred : int\n",
        "            The predicted label for the input data point.\n",
        "        \"\"\"\n",
        "        # Compute the distances from the input point to all training points\n",
        "        distances = [self.distance(x, x_train) for x_train in self.X_train]\n",
        "\n",
        "        # Get the closest k neighbors\n",
        "        k_indices = np.argsort(distances)[:self.k]  # SOLUTION\n",
        "        k_nearest_labels = [self.y_train[i] for i in k_indices]\n",
        "\n",
        "        # Majority vote\n",
        "        most_common = Counter(k_nearest_labels).most_common()\n",
        "        return most_common[0][0]\n",
        "\n",
        "    def predict_batch(self, X: np.ndarray) -> np.ndarray:\n",
        "        \"\"\"\n",
        "        Predict the labels for a batch of input data points.\n",
        "\n",
        "        Parameters\n",
        "        ----------\n",
        "        X : numpy array, shape (n, d)\n",
        "            The input data for which to predict labels.\n",
        "\n",
        "        Returns\n",
        "        -------\n",
        "        y_pred : numpy array, shape (n,)\n",
        "            The predicted labels for the input data batch.\n",
        "        \"\"\"\n",
        "        return np.array([self.predict(x) for x in X])"
      ]
    },
    {
      "cell_type": "markdown",
      "id": "105d7177",
      "metadata": {
        "id": "105d7177"
      },
      "source": [
        "#### Distance Metric\n",
        "\n",
        "We now have everything in place except for our distance metric. In our 1D\n",
        "(single-neuron) case, we can simply use the absolute difference between the spike counts\n",
        "of the neuron for the test point and the training points."
      ]
    },
    {
      "cell_type": "markdown",
      "id": "0S6AobtBkL18",
      "metadata": {
        "id": "0S6AobtBkL18"
      },
      "source": [
        "**_📝 Exercise_**\n",
        "\n",
        "Implement the distance function below.\n",
        "\n",
        "Wherever you see a `TODO` (there is **one**), attempt to fill in that line of code.\n",
        "\n",
        "You can find the solution below."
      ]
    },
    {
      "cell_type": "code",
      "execution_count": null,
      "id": "bJduVMfNkeMq",
      "metadata": {
        "id": "bJduVMfNkeMq"
      },
      "outputs": [],
      "source": [
        "def abs_distance(x1: np.ndarray, x2: np.ndarray) -> float:\n",
        "    \"\"\"\n",
        "    Compute the absolute distance between two 1D data points.\n",
        "\n",
        "    Parameters\n",
        "    ----------\n",
        "    x1 : numpy array\n",
        "        The first data point.\n",
        "    x2 : numpy array\n",
        "        The second data point.\n",
        "\n",
        "    Returns\n",
        "    -------\n",
        "    float\n",
        "        The absolute distance between the two points.\n",
        "    \"\"\"\n",
        "    return np.abs(x1-x2)  # TODO: Replace None with your solution (use numpy functions)"
      ]
    },
    {
      "cell_type": "code",
      "execution_count": null,
      "id": "062ce3fc",
      "metadata": {
        "id": "062ce3fc"
      },
      "outputs": [],
      "source": [
        "#@title Double click to see solution {display-mode: \"form\" }\n",
        "def abs_distance(x1: np.ndarray, x2: np.ndarray) -> float:\n",
        "    \"\"\"\n",
        "    Compute the absolute distance between two 1D data points.\n",
        "\n",
        "    Parameters\n",
        "    ----------\n",
        "    x1 : numpy array\n",
        "        The first data point.\n",
        "    x2 : numpy array\n",
        "        The second data point.\n",
        "\n",
        "    Returns\n",
        "    -------\n",
        "    float\n",
        "        The absolute distance between the two points.\n",
        "    \"\"\"\n",
        "    return np.abs(x1 - x2)  # SOLUTION"
      ]
    },
    {
      "cell_type": "markdown",
      "id": "c95ca083",
      "metadata": {
        "id": "c95ca083"
      },
      "source": [
        "Let's now use this distance metric to implement our first KNN classifier!\n",
        "\n",
        "Instantiate the class:"
      ]
    },
    {
      "cell_type": "code",
      "execution_count": null,
      "id": "97c63fe3",
      "metadata": {
        "id": "97c63fe3"
      },
      "outputs": [],
      "source": [
        "# To instantiate the class, all we need to provide is the number of neighbors k.\n",
        "knn_1D = KNNBase(k=2)\n",
        "# Then we can add the distance metric we just defined.\n",
        "knn_1D.distance = abs_distance"
      ]
    },
    {
      "cell_type": "markdown",
      "id": "3dHmnsI5lF7K",
      "metadata": {
        "id": "3dHmnsI5lF7K"
      },
      "source": [
        "**_📝 Exercise_**\n",
        "\n",
        "\"Train\" the model!\n",
        "\n",
        "Wherever you see a `TODO` (there is **one**), attempt to fill in that line of code.\n",
        "\n",
        "You can find the solution below."
      ]
    },
    {
      "cell_type": "code",
      "execution_count": null,
      "id": "JIGKyNTVlRiY",
      "metadata": {
        "id": "JIGKyNTVlRiY"
      },
      "outputs": [],
      "source": [
        "# Prep the data for compatibility with our KNN class\n",
        "X_train = np.concatenate((X_train_reach1, X_train_reach2))\n",
        "y_train = np.concatenate((y_train_reach1, y_train_reach2))\n",
        "\n",
        "# Fit the KNN model\n",
        "knn_1D.fit(X_train, y_train)  # TODO"
      ]
    },
    {
      "cell_type": "code",
      "execution_count": null,
      "id": "4f657222",
      "metadata": {
        "id": "4f657222"
      },
      "outputs": [],
      "source": [
        "#@title Double click to see solution {display-mode: \"form\" }\n",
        "# Prep the data for compatibility with our KNN class\n",
        "X_train = np.concatenate((X_train_reach1, X_train_reach2))\n",
        "y_train = np.concatenate((y_train_reach1, y_train_reach2))\n",
        "\n",
        "# Fit the KNN model\n",
        "knn_1D.fit(X_train, y_train)  # SOLUTION"
      ]
    },
    {
      "cell_type": "markdown",
      "id": "d8eaeeba",
      "metadata": {
        "id": "d8eaeeba"
      },
      "source": [
        "Having trained the model, we can now use it to make predictions on new data.\n",
        "And importantly, we'll need to be able to evaluate how well the model performs on these\n",
        "new unseen data points."
      ]
    },
    {
      "cell_type": "markdown",
      "id": "owWFfNnul1Er",
      "metadata": {
        "id": "owWFfNnul1Er"
      },
      "source": [
        "**_📝 Exercise_**\n",
        "\n",
        "Implement the function to compute classification accuracy.\n",
        "\n",
        "Wherever you see a `TODO` (there is **one**), attempt to fill in that line of code.\n",
        "\n",
        "You can find the solution below."
      ]
    },
    {
      "cell_type": "code",
      "execution_count": null,
      "id": "EPxcITfbl-hV",
      "metadata": {
        "id": "EPxcITfbl-hV"
      },
      "outputs": [],
      "source": [
        "# Let's define a function to compute the accuracy of our KNN model\n",
        "def accuracy(y_true: np.ndarray, y_pred: np.ndarray) -> float:\n",
        "    \"\"\"\n",
        "    Compute the classification accuracy of the model.\n",
        "\n",
        "    Parameters\n",
        "    ----------\n",
        "    y_true : numpy array, shape (n,)\n",
        "        The true labels for the data points.\n",
        "    y_pred : numpy array, shape (n,)\n",
        "        The predicted labels for the data points.\n",
        "\n",
        "    Returns\n",
        "    -------\n",
        "    float\n",
        "        The classification accuracy, defined as the proportion of correct predictions.\n",
        "    \"\"\"\n",
        "    return np.mean(y_true==y_pred) * 100  # TODO: Replace None with your solution (use numpy functions)"
      ]
    },
    {
      "cell_type": "code",
      "execution_count": null,
      "id": "aad94fcf",
      "metadata": {
        "id": "aad94fcf"
      },
      "outputs": [],
      "source": [
        "#@title Double click to see solution {display-mode: \"form\" }\n",
        "# Let's define a function to compute the accuracy of our KNN model\n",
        "def accuracy(y_true: np.ndarray, y_pred: np.ndarray) -> float:\n",
        "    \"\"\"\n",
        "    Compute the classification accuracy of the model.\n",
        "\n",
        "    Parameters\n",
        "    ----------\n",
        "    y_true : numpy array, shape (n,)\n",
        "        The true labels for the data points.\n",
        "    y_pred : numpy array, shape (n,)\n",
        "        The predicted labels for the data points.\n",
        "\n",
        "    Returns\n",
        "    -------\n",
        "    float\n",
        "        The classification accuracy, defined as the proportion of correct predictions.\n",
        "    \"\"\"\n",
        "    return np.mean(y_true == y_pred)  # SOLUTION"
      ]
    },
    {
      "cell_type": "markdown",
      "id": "342a8d33",
      "metadata": {
        "id": "342a8d33"
      },
      "source": [
        "Predict labels for the test data and evaluate our model's accuracy:"
      ]
    },
    {
      "cell_type": "code",
      "execution_count": null,
      "id": "d84cc76d",
      "metadata": {
        "colab": {
          "base_uri": "https://localhost:8080/"
        },
        "id": "d84cc76d",
        "outputId": "2155208c-5b5e-4fb2-f23c-0c0df44e2429"
      },
      "outputs": [
        {
          "output_type": "stream",
          "name": "stdout",
          "text": [
            "Train accuracy: 0.910\n",
            "Test accuracy: 0.921\n"
          ]
        }
      ],
      "source": [
        "# Prep the data for compatibility with our KNN class\n",
        "# Train\n",
        "X_train = np.concatenate((X_train_reach1, X_train_reach2))\n",
        "y_train = np.concatenate((y_train_reach1, y_train_reach2))\n",
        "\n",
        "# Test\n",
        "X_test = np.concatenate((X_test_reach1, X_test_reach2))\n",
        "y_test = np.concatenate((y_test_reach1, y_test_reach2))\n",
        "\n",
        "# Predict the labels for the train data\n",
        "y_pred_train = knn_1D.predict_batch(X_train)\n",
        "\n",
        "# Predict the labels for the test data\n",
        "y_pred_test = knn_1D.predict_batch(X_test)\n",
        "\n",
        "# Train accuracy\n",
        "acc_train = accuracy(y_train, y_pred_train)\n",
        "print(f'Train accuracy: {acc_train:.3f}')\n",
        "\n",
        "# Test accuracy\n",
        "acc_test = accuracy(y_test, y_pred_test)\n",
        "print(f'Test accuracy: {acc_test:.3f}')"
      ]
    },
    {
      "cell_type": "markdown",
      "id": "e69c26c3",
      "metadata": {
        "id": "e69c26c3"
      },
      "source": [
        "That's quite good! Let's visualize the test points from before, and color them by\n",
        "their predicted class labels. Do these predictions make sense?"
      ]
    },
    {
      "cell_type": "code",
      "execution_count": null,
      "id": "769fd439",
      "metadata": {
        "colab": {
          "base_uri": "https://localhost:8080/",
          "height": 410
        },
        "id": "769fd439",
        "outputId": "55f4a987-b92a-4efe-b36e-f8ce442076c9"
      },
      "outputs": [
        {
          "output_type": "display_data",
          "data": {
            "text/plain": [
              "<Figure size 800x400 with 1 Axes>"
            ],
            "image/png": "[encoded data removed]"
          },
          "metadata": {}
        }
      ],
      "source": [
        "reach1_tests = [0, 8]  # Test trial indices\n",
        "reach2_tests = [0, 1]\n",
        "\n",
        "# Reshape the predicted test labels to include an additional axis for reach angle\n",
        "y_pred_reaches = y_pred_test.reshape(2, -1).T\n",
        "y_pred_reach1 = y_pred_reaches[:, 0]\n",
        "y_pred_reach2 = y_pred_reaches[:, 1]\n",
        "\n",
        "# Replot the training data\n",
        "plt.figure(figsize=(8, 4))\n",
        "# Spike counts are integer values, and so many data points will overlap.\n",
        "# Let's add an offset and a small amount of jitter to the y-axis, purely for\n",
        "# visualization purposes.\n",
        "plt.plot(\n",
        "    X_train_reach1,\n",
        "    -0.1 + np.random.normal(0, 0.02, size=y_train_reach1.shape),\n",
        "    'r.',\n",
        "    label=f'{angles[reach_idx1]}° reach',\n",
        ")\n",
        "plt.plot(\n",
        "    X_train_reach2,\n",
        "    0.1 + np.random.normal(0, 0.02, size=y_train_reach2.shape),\n",
        "    'b.',\n",
        "    label=f'{angles[reach_idx2]}° reach',\n",
        ")\n",
        "# And plot the test points with their predicted labels\n",
        "for test_trial_idx in reach1_tests:\n",
        "    color = 'r' if y_pred_reach1[test_trial_idx] == 0 else 'b'\n",
        "    plt.plot(X_test_reach1[test_trial_idx], 0.2, '*', markersize=12, color=color)\n",
        "for test_trial_idx in reach2_tests:\n",
        "    color = 'r' if y_pred_reach2[test_trial_idx] == 0 else 'b'\n",
        "    plt.plot(X_test_reach2[test_trial_idx], 0.2, '*', markersize=12, color=color)\n",
        "plt.ylim(-0.5, 0.5)\n",
        "plt.xlabel('Spike Count')\n",
        "# Remove the y-ticks since they are not informative in this case\n",
        "plt.yticks([])\n",
        "plt.title(f'Responses for Two Reach Angles, Neuron {neuron_idx}')\n",
        "plt.legend()\n",
        "plt.show()"
      ]
    },
    {
      "cell_type": "markdown",
      "id": "a6899025",
      "metadata": {
        "id": "a6899025"
      },
      "source": [
        "**_💬 Discussion questions:_**\n",
        "\n",
        "- Based on the predicted labels shown above, is there a simple rule that\n",
        "   would allow us to classify the test points correctly, without using the KNN\n",
        "   classifier?"
      ]
    },
    {
      "cell_type": "markdown",
      "id": "f2478ec3",
      "metadata": {
        "id": "f2478ec3"
      },
      "source": [
        "#### Decision boundaries, part 1\n",
        "\n",
        "It seems like there might be a critical threshold spike count: Below this threshold,\n",
        "the model predicts one angle, and above it, the other angle.\n",
        "\n",
        "This introduces the concept of a *decision boundary*. Let's visualize our KNN\n",
        "classifier's *decision regions*, and the corresponding decision boundary that results\n",
        "from them."
      ]
    },
    {
      "cell_type": "code",
      "execution_count": null,
      "id": "fce9db61",
      "metadata": {
        "colab": {
          "base_uri": "https://localhost:8080/",
          "height": 410
        },
        "id": "fce9db61",
        "outputId": "d195ac92-e760-4a7f-b199-15b3b089c1a8"
      },
      "outputs": [
        {
          "output_type": "display_data",
          "data": {
            "text/plain": [
              "<Figure size 800x400 with 1 Axes>"
            ],
            "image/png": "[encoded data removed]"
          },
          "metadata": {}
        }
      ],
      "source": [
        "# Let's now visualize the decision boundaries of our KNN model\n",
        "# We'll create a grid of points along the x-axis and predict their labels\n",
        "x_min, x_max = X_train.min() - 1, X_train.max() + 1\n",
        "xx = np.linspace(x_min, x_max, 100)\n",
        "y_grid_pred = knn_1D.predict_batch(xx)\n",
        "\n",
        "# Now visualize the predicted labels of the grid points, along with the training data\n",
        "plt.figure(figsize=(8, 4))\n",
        "# Plot the predicted labels of the grid points\n",
        "plt.scatter(xx, np.zeros_like(xx), c=y_grid_pred, cmap='coolwarm_r', alpha=0.3, s=10)\n",
        "# Plot the training data, with a small amount of jitter for visualization\n",
        "plt.plot(\n",
        "    X_train_reach1,\n",
        "    -0.1 + np.random.normal(0, 0.02, size=y_train_reach1.shape),\n",
        "    'r.',\n",
        "    label=f'{angles[reach_idx1]}° reach',\n",
        ")\n",
        "plt.plot(\n",
        "    X_train_reach2,\n",
        "    0.1 + np.random.normal(0, 0.02, size=y_train_reach2.shape),\n",
        "    'b.',\n",
        "    label=f'{angles[reach_idx2]}° reach',\n",
        ")\n",
        "plt.ylim(-0.5, 0.5)\n",
        "plt.xlabel('Spike Count')\n",
        "# Remove the y-ticks since they are not informative in this case\n",
        "plt.yticks([])\n",
        "plt.title('Decision Boundaries of the 1D KNN Model')\n",
        "plt.legend()\n",
        "plt.show()"
      ]
    },
    {
      "cell_type": "markdown",
      "id": "6be20088",
      "metadata": {
        "id": "6be20088"
      },
      "source": [
        "**_💬 Discussion questions:_**\n",
        "\n",
        "- Does this decision boundary align with our test predictions, above?"
      ]
    },
    {
      "cell_type": "markdown",
      "id": "cd0a29b3",
      "metadata": {
        "id": "cd0a29b3"
      },
      "source": [
        "### Binary classification with two neurons\n",
        "\n",
        "We're now ready to extend our Nearest Neighbors classifier to two neurons!"
      ]
    },
    {
      "cell_type": "code",
      "execution_count": null,
      "id": "293f3564",
      "metadata": {
        "colab": {
          "base_uri": "https://localhost:8080/",
          "height": 507
        },
        "id": "293f3564",
        "outputId": "87361d8c-7817-4da1-cf57-07642af23c1b"
      },
      "outputs": [
        {
          "output_type": "display_data",
          "data": {
            "text/plain": [
              "<Figure size 600x500 with 1 Axes>"
            ],
            "image/png": "[encoded data removed]"
          },
          "metadata": {}
        }
      ],
      "source": [
        "# Let's start by visualizing the training data for two neurons\n",
        "neuron_idxs = [91, 34]  # The neurons we'll use for binary classification\n",
        "reach_idx1 = 0  # First reach angle\n",
        "reach_idx2 = 3  # Second reach angle\n",
        "\n",
        "# Extract the data for the two angles\n",
        "X_reach1 = Xplan_angles[reach_idx1, :, neuron_idxs].T\n",
        "X_reach2 = Xplan_angles[reach_idx2, :, neuron_idxs].T\n",
        "\n",
        "# Let's create a label vector for the two angles\n",
        "y_reach1 = np.zeros(X_reach1.shape[0])  # Label for the first angle\n",
        "y_reach2 = np.ones(X_reach2.shape[0])  # Label for the second angle\n",
        "\n",
        "# Let's also randomly split the data into training and test sets.\n",
        "# We'll keep the same number of trials for each angle.\n",
        "n_train = int(0.8 * num_reaches_per_angle)  # 80% for training\n",
        "# Seed the random number generator for reproducibility\n",
        "np.random.seed(1)\n",
        "train_idxs = np.random.choice(num_reaches_per_angle, n_train, replace=False)\n",
        "# This function just returns the indices that are not already in the training set\n",
        "test_idxs = np.setdiff1d(np.arange(num_reaches_per_angle), train_idxs)\n",
        "\n",
        "# Train data\n",
        "X_train_reach1 = X_reach1[train_idxs]\n",
        "X_train_reach2 = X_reach2[train_idxs]\n",
        "y_train_reach1 = y_reach1[train_idxs]\n",
        "y_train_reach2 = y_reach2[train_idxs]\n",
        "\n",
        "# Test data\n",
        "X_test_reach1 = X_reach1[test_idxs]\n",
        "X_test_reach2 = X_reach2[test_idxs]\n",
        "y_test_reach1 = y_reach1[test_idxs]\n",
        "y_test_reach2 = y_reach2[test_idxs]\n",
        "\n",
        "# Visualize the responses on each trial\n",
        "plt.figure(figsize=(6, 5))\n",
        "# Spike counts are integer values, and so many data points will overlap.\n",
        "# Let's add an offset and a small amount of jitter to the y-axis, purely for\n",
        "# visualization purposes.\n",
        "plt.plot(\n",
        "    X_train_reach1[:, 0] + np.random.normal(0, 0.05, size=X_train_reach1.shape[0]),\n",
        "    X_train_reach1[:, 1] + np.random.normal(0, 0.05, size=X_train_reach1.shape[0]),\n",
        "    'r.',\n",
        "    label=f'{angles[reach_idx1]}° reach',\n",
        ")\n",
        "plt.plot(\n",
        "    X_train_reach2[:, 0] + np.random.normal(0, 0.05, size=X_train_reach2.shape[0]),\n",
        "    X_train_reach2[:, 1] + np.random.normal(0, 0.05, size=X_train_reach2.shape[0]),\n",
        "    'b.',\n",
        "    label=f'{angles[reach_idx2]}° reach',\n",
        ")\n",
        "plt.xlabel(f'Spike Count, Neuron {neuron_idxs[0]}')\n",
        "plt.ylabel(f'Spike Count, Neuron {neuron_idxs[1]}')\n",
        "plt.title(f'Responses for Two Reach Angles, Neurons {neuron_idxs}')\n",
        "plt.legend(loc='upper left', bbox_to_anchor=(1, 1), frameon=False)\n",
        "plt.tight_layout()\n",
        "plt.show()"
      ]
    },
    {
      "cell_type": "markdown",
      "id": "39637a78",
      "metadata": {
        "id": "39637a78"
      },
      "source": [
        "This looks highly separable! How should we modify our KNN class to handle two neurons?"
      ]
    },
    {
      "cell_type": "markdown",
      "id": "WnxnRtLzojtA",
      "metadata": {
        "id": "WnxnRtLzojtA"
      },
      "source": [
        "**_📝 Exercise_**\n",
        "\n",
        "Implement the function to compute Euclidean distance between two points.\n",
        "\n",
        "Wherever you see a `TODO` (there is **one**), attempt to fill in that line of code.\n",
        "\n",
        "You can find the solution below."
      ]
    },
    {
      "cell_type": "code",
      "execution_count": null,
      "id": "8QUmPEUeo4Qq",
      "metadata": {
        "id": "8QUmPEUeo4Qq"
      },
      "outputs": [],
      "source": [
        "def euclidean_distance(x1: np.ndarray, x2: np.ndarray) -> float:\n",
        "    \"\"\"\n",
        "    Compute the Euclidean distance between two data points.\n",
        "\n",
        "    Parameters\n",
        "    ----------\n",
        "    x1 : numpy array\n",
        "        The first data point.\n",
        "    x2 : numpy array\n",
        "        The second data point.\n",
        "\n",
        "    Returns\n",
        "    -------\n",
        "    float\n",
        "        The Euclidean distance between the two points.\n",
        "    \"\"\"\n",
        "    return np.sqrt(np.sum(np.square(x2 - x1)))  # TODO: Replace None with your solution (use numpy functions)"
      ]
    },
    {
      "cell_type": "code",
      "execution_count": null,
      "id": "a4967c6e",
      "metadata": {
        "id": "a4967c6e"
      },
      "outputs": [],
      "source": [
        "#@title Double click to see solution {display-mode: \"form\" }\n",
        "def euclidean_distance(x1: np.ndarray, x2: np.ndarray) -> float:\n",
        "    \"\"\"\n",
        "    Compute the Euclidean distance between two data points.\n",
        "\n",
        "    Parameters\n",
        "    ----------\n",
        "    x1 : numpy array\n",
        "        The first data point.\n",
        "    x2 : numpy array\n",
        "        The second data point.\n",
        "\n",
        "    Returns\n",
        "    -------\n",
        "    float\n",
        "        The Euclidean distance between the two points.\n",
        "    \"\"\"\n",
        "    return np.sqrt(np.sum((x1 - x2) ** 2))  # SOLUTION"
      ]
    },
    {
      "cell_type": "markdown",
      "id": "9aa6c987",
      "metadata": {
        "id": "9aa6c987"
      },
      "source": [
        "We can now take the same steps as before to create and train our KNN classifier.\n",
        "\n",
        "Instantiate the class:"
      ]
    },
    {
      "cell_type": "code",
      "execution_count": null,
      "id": "a720d54e",
      "metadata": {
        "id": "a720d54e"
      },
      "outputs": [],
      "source": [
        "knn_2D = KNNBase(k=3)\n",
        "knn_2D.distance = euclidean_distance"
      ]
    },
    {
      "cell_type": "code",
      "source": [],
      "metadata": {
        "id": "hqhbKE2KTSlK"
      },
      "id": "hqhbKE2KTSlK",
      "execution_count": null,
      "outputs": []
    },
    {
      "cell_type": "markdown",
      "id": "6f865560",
      "metadata": {
        "id": "6f865560"
      },
      "source": [
        "\"Train\" the model:"
      ]
    },
    {
      "cell_type": "code",
      "execution_count": null,
      "id": "a861b7e0",
      "metadata": {
        "id": "a861b7e0"
      },
      "outputs": [],
      "source": [
        "# Prep the data for compatibility with our KNN class\n",
        "X_train = np.concatenate((X_train_reach1, X_train_reach2))\n",
        "y_train = np.concatenate((y_train_reach1, y_train_reach2))\n",
        "\n",
        "# Fit the KNN model\n",
        "knn_2D.fit(X_train, y_train)"
      ]
    },
    {
      "cell_type": "markdown",
      "id": "03aa1e5f",
      "metadata": {
        "id": "03aa1e5f"
      },
      "source": [
        "Predict labels for the test data and evaluate our model's accuracy:"
      ]
    },
    {
      "cell_type": "code",
      "execution_count": null,
      "id": "a50e13e4",
      "metadata": {
        "colab": {
          "base_uri": "https://localhost:8080/"
        },
        "id": "a50e13e4",
        "outputId": "c7e8f6d6-7a0d-4a6e-e92d-0f742b4617a8"
      },
      "outputs": [
        {
          "output_type": "stream",
          "name": "stdout",
          "text": [
            "Train accuracy: 1.000\n",
            "Test accuracy: 0.974\n"
          ]
        }
      ],
      "source": [
        "# Prep the data for compatibility with our KNN class\n",
        "# Train\n",
        "X_train = np.concatenate((X_train_reach1, X_train_reach2))\n",
        "y_train = np.concatenate((y_train_reach1, y_train_reach2))\n",
        "\n",
        "# Test\n",
        "X_test = np.concatenate((X_test_reach1, X_test_reach2))\n",
        "y_test = np.concatenate((y_test_reach1, y_test_reach2))\n",
        "\n",
        "# Predict the labels for the train data\n",
        "y_pred_train = knn_2D.predict_batch(X_train)\n",
        "\n",
        "# Predict the labels for the test data\n",
        "y_pred_test = knn_2D.predict_batch(X_test)\n",
        "\n",
        "# Train accuracy\n",
        "acc_train = accuracy(y_train, y_pred_train)\n",
        "print(f'Train accuracy: {acc_train:.3f}')\n",
        "\n",
        "# Test accuracy\n",
        "acc_test = accuracy(y_test, y_pred_test)\n",
        "print(f'Test accuracy: {acc_test:.3f}')"
      ]
    },
    {
      "cell_type": "markdown",
      "id": "ba665f25",
      "metadata": {
        "id": "ba665f25"
      },
      "source": [
        "That's again quite good!"
      ]
    },
    {
      "cell_type": "markdown",
      "id": "ce911bdb",
      "metadata": {
        "id": "ce911bdb"
      },
      "source": [
        "#### Decision boundaries, part 2\n",
        "\n",
        "Let's revisit the idea of decision boundaries, but now for our two-dimensional data.\n",
        "\n",
        "**_💬 Discussion questions:_**\n",
        "- How would you draw the decision boundary for our two-neuron KNN\n",
        "classifier?\n",
        "\n",
        "Then let's go ahead and visualize the true decision boundary for our classifier."
      ]
    },
    {
      "cell_type": "code",
      "execution_count": null,
      "id": "a81efe70",
      "metadata": {
        "colab": {
          "base_uri": "https://localhost:8080/",
          "height": 507
        },
        "id": "a81efe70",
        "outputId": "3e674583-98a2-4120-ae43-bdbb64ed1214"
      },
      "outputs": [
        {
          "output_type": "display_data",
          "data": {
            "text/plain": [
              "<Figure size 600x500 with 1 Axes>"
            ],
            "image/png": "[encoded data removed]"
          },
          "metadata": {}
        }
      ],
      "source": [
        "# Let's now visualize the decision boundaries of our KNN model\n",
        "# We'll create a 2D grid of points and predict their labels\n",
        "x_min, x_max = np.min(X_train[:, 0]) - 1, np.max(X_train[:, 0]) + 1\n",
        "y_min, y_max = np.min(X_train[:, 1]) - 1, np.max(X_train[:, 1]) + 1\n",
        "xx, yy = np.meshgrid(np.linspace(x_min, x_max, 50), np.linspace(y_min, y_max, 50))\n",
        "grid_points = np.c_[xx.ravel(), yy.ravel()]\n",
        "y_grid_pred = knn_2D.predict_batch(grid_points)\n",
        "\n",
        "# Now visualize the predicted labels of the grid points, along with the training data\n",
        "plt.figure(figsize=(6, 5))\n",
        "# Plot the decision boundary\n",
        "plt.scatter(\n",
        "    grid_points[:, 0],\n",
        "    grid_points[:, 1],\n",
        "    c=y_grid_pred,\n",
        "    cmap='coolwarm_r',\n",
        "    alpha=0.3,\n",
        "    s=5,\n",
        ")\n",
        "# Plot the training data, with a small amount of jitter for visualization\n",
        "plt.plot(\n",
        "    X_train_reach1[:, 0] + np.random.normal(0, 0.05, size=X_train_reach1.shape[0]),\n",
        "    X_train_reach1[:, 1] + np.random.normal(0, 0.05, size=X_train_reach1.shape[0]),\n",
        "    'r.',\n",
        "    label=f'{angles[reach_idx1]}° reach',\n",
        ")\n",
        "plt.plot(\n",
        "    X_train_reach2[:, 0] + np.random.normal(0, 0.05, size=X_train_reach2.shape[0]),\n",
        "    X_train_reach2[:, 1] + np.random.normal(0, 0.05, size=X_train_reach2.shape[0]),\n",
        "    'b.',\n",
        "    label=f'{angles[reach_idx2]}° reach',\n",
        ")\n",
        "plt.xlabel(f'Spike Count, Neuron {neuron_idxs[0]}')\n",
        "plt.ylabel(f'Spike Count, Neuron {neuron_idxs[1]}')\n",
        "plt.title('Decision Boundaries of the 2D KNN Model')\n",
        "plt.legend(loc='upper left', bbox_to_anchor=(1, 1), frameon=False)\n",
        "plt.tight_layout()\n",
        "plt.show()"
      ]
    },
    {
      "cell_type": "markdown",
      "id": "d66b6700",
      "metadata": {
        "id": "d66b6700"
      },
      "source": [
        "**_📝 Exercises_**\n",
        "\n",
        "1. Rerun the above analyses, but try different values for $k$. What happens to the decision boundary as $k$ changes? How does $k$ control the effective complexity of the classifier?\n",
        "2. Rerun the above analyses, but try different pairs of reach angles to classify. Which pairs result in the best classification performance, and why? Which pairs result in the the worst classification performance, and why?"
      ]
    },
    {
      "cell_type": "markdown",
      "id": "22da5545",
      "metadata": {
        "id": "22da5545"
      },
      "source": [
        "## Logistic Regression: Parametrizing the decision boundary directly <a name=\"logistic-regression\"></a>"
      ]
    },
    {
      "cell_type": "markdown",
      "id": "0d7af6b7",
      "metadata": {
        "id": "0d7af6b7"
      },
      "source": [
        "You may have noticed that, for certain values of $k$, the decision boundary looks\n",
        "essentially like a straight line. Perhaps we can do well, then, by directly choosing\n",
        "the decision boundary to be linear, and then estimating the best slope and intercept\n",
        "of that line from the data. This brings us to logistic regression."
      ]
    },
    {
      "cell_type": "markdown",
      "id": "9c040f82",
      "metadata": {
        "id": "9c040f82"
      },
      "source": [
        "### One-dimensional decision boundaries: A simple threshold value\n",
        "\n",
        "Let's return to the one-dimensional, single-neuron case. Again, we want to classify two reach angles, using the spike counts from one neuron.\n",
        "\n",
        "This time, let's set a threshold value, $b$ directly, with the following rule:\n",
        "$$\\text{If } x < b, \\text{ then predict angle 1. Else, predict angle 2.}$$\n",
        "\n",
        "Note: This threshold value $b$ is frequently referred to as the *bias* term in machine learning."
      ]
    },
    {
      "cell_type": "code",
      "source": [],
      "metadata": {
        "id": "74Wf2riIbFfP"
      },
      "id": "74Wf2riIbFfP",
      "execution_count": null,
      "outputs": []
    },
    {
      "cell_type": "code",
      "execution_count": null,
      "id": "493ef1a8",
      "metadata": {
        "id": "493ef1a8"
      },
      "outputs": [],
      "source": [
        "#@title Let's prepare the 1D data as before {display-mode: \"form\" }\n",
        "neuron_idx = 91  # The neuron we'll use for binary classification\n",
        "reach_idx1 = 0  # First reach angle\n",
        "reach_idx2 = 3  # Second reach angle\n",
        "\n",
        "# Extract the data for the two angles\n",
        "X_reach1 = Xplan_angles[reach_idx1, :, neuron_idx]\n",
        "X_reach2 = Xplan_angles[reach_idx2, :, neuron_idx]\n",
        "\n",
        "# Let's create a label vector for the two angles\n",
        "y_reach1 = np.zeros(X_reach1.shape[0])  # Label for the first angle\n",
        "y_reach2 = np.ones(X_reach2.shape[0])  # Label for the second angle\n",
        "\n",
        "# Let's also randomly split the data into training and test sets.\n",
        "# We'll keep the same number of trials for each angle.\n",
        "n_train = int(0.8 * num_reaches_per_angle)  # 80% for training\n",
        "# Seed the random number generator for reproducibility\n",
        "np.random.seed(2)\n",
        "train_idxs = np.random.choice(num_reaches_per_angle, n_train, replace=False)\n",
        "# This function just returns the indices that are not already in the training set\n",
        "test_idxs = np.setdiff1d(np.arange(num_reaches_per_angle), train_idxs)\n",
        "\n",
        "# Train data\n",
        "X_train_reach1 = X_reach1[train_idxs]\n",
        "X_train_reach2 = X_reach2[train_idxs]\n",
        "y_train_reach1 = y_reach1[train_idxs]\n",
        "y_train_reach2 = y_reach2[train_idxs]\n",
        "X_train = np.concatenate((X_train_reach1, X_train_reach2))\n",
        "y_train = np.concatenate((y_train_reach1, y_train_reach2))\n",
        "\n",
        "# Test data\n",
        "X_test_reach1 = X_reach1[test_idxs]\n",
        "X_test_reach2 = X_reach2[test_idxs]\n",
        "y_test_reach1 = y_reach1[test_idxs]\n",
        "y_test_reach2 = y_reach2[test_idxs]\n",
        "X_test = np.concatenate((X_test_reach1, X_test_reach2))\n",
        "y_test = np.concatenate((y_test_reach1, y_test_reach2))"
      ]
    },
    {
      "cell_type": "markdown",
      "id": "d0e92e60",
      "metadata": {
        "id": "d0e92e60"
      },
      "source": [
        "Then let's play around with a threshold ourselves, and see how it affects the decision boundary and the classification performance."
      ]
    },
    {
      "cell_type": "code",
      "execution_count": null,
      "id": "8849880e",
      "metadata": {
        "colab": {
          "base_uri": "https://localhost:8080/",
          "height": 519,
          "referenced_widgets": [
            "cfea94db500d4f5db661576d1f2c36cf",
            "98b28ba7eb764349b668d90d9e194f4f",
            "ce7428b7a27e4624a246f8bdeb35c4c2",
            "6a43147eefe0497986b3dd46c18fdca9",
            "7912baf2e5be44cba26cd6802fadc5a7",
            "d527c9e9788b45f2a5853eaabe69a39b",
            "add9f78b14674df382df6da352f20570"
          ]
        },
        "id": "8849880e",
        "outputId": "8a75fe46-7566-4dea-8574-c535221c6f33"
      },
      "outputs": [
        {
          "output_type": "display_data",
          "data": {
            "text/plain": [
              "interactive(children=(FloatSlider(value=2.0, description='b', max=12.0, step=0.5), Output()), _dom_classes=('w…"
            ],
            "application/vnd.jupyter.widget-view+json": {
              "version_major": 2,
              "version_minor": 0,
              "model_id": "cfea94db500d4f5db661576d1f2c36cf"
            }
          },
          "metadata": {}
        }
      ],
      "source": [
        "from ipywidgets import interact\n",
        "import ipywidgets as widgets\n",
        "\n",
        "@interact(b=widgets.FloatSlider(min=0, max=12, step=0.5, value=2))\n",
        "def plot_decision_boundary(b):\n",
        "    plt.figure(figsize=(6, 5))\n",
        "    # Replot the training data\n",
        "    # Spike counts are integer values, and so many data points will overlap.\n",
        "    # Let's add an offset and a small amount of jitter to the y-axis, purely for\n",
        "    # visualization purposes.\n",
        "    # Seed the random number generator for reproducibility\n",
        "    np.random.seed(0)\n",
        "    plt.plot(\n",
        "        X_train_reach1,\n",
        "        -0.1 + np.random.normal(0, 0.02, size=y_train_reach1.shape),\n",
        "        'r.',\n",
        "        label=f'{angles[reach_idx1]}° reach',\n",
        "    )\n",
        "    plt.plot(\n",
        "        X_train_reach2,\n",
        "        0.1 + np.random.normal(0, 0.02, size=y_train_reach2.shape),\n",
        "        'b.',\n",
        "        label=f'{angles[reach_idx2]}° reach',\n",
        "    )\n",
        "    # Plot the decision boundary\n",
        "    plt.axvline(x=b, color='m', linestyle='--', label=f'Threshold b={b:.1f}')\n",
        "\n",
        "    # Let's also compute classification accuracy for the current threshold\n",
        "\n",
        "    # Predict the labels for the train data\n",
        "    y_pred_train = (X_train > b).astype(int)\n",
        "\n",
        "    # Predict the labels for the test data\n",
        "    y_pred_test = (X_test > b).astype(int)\n",
        "\n",
        "    # Train accuracy\n",
        "    acc_train = accuracy(y_train, y_pred_train)\n",
        "\n",
        "    # Test accuracy\n",
        "    acc_test = accuracy(y_test, y_pred_test)\n",
        "\n",
        "    # Final plot formatting\n",
        "    plt.ylim(-0.5, 0.5)\n",
        "    plt.xlabel('Spike Count')\n",
        "    # Remove the y-ticks since they are not informative in this case\n",
        "    plt.yticks([])\n",
        "    plt.title(f\"Decision Threshold b={b:.1f}; Train acc: {acc_train:.3f}, Test acc: {acc_test:.3f}\")\n",
        "    plt.show()"
      ]
    },
    {
      "cell_type": "markdown",
      "id": "27443361",
      "metadata": {
        "id": "27443361"
      },
      "source": [
        "**_💬 Discussion questions:_**\n",
        "\n",
        "1. At which values of $b$ does this classifier perform as well as the KNN classifier (with $k = 5$)?\n",
        "2. Are there values of $b$ where this classifier performs even better than the KNN classifier?"
      ]
    },
    {
      "cell_type": "markdown",
      "id": "8c139cfb",
      "metadata": {
        "id": "8c139cfb"
      },
      "source": [
        "#### **Note:** Parametric vs non-parametric classifiers\n",
        "\n",
        "This simple threshold classifier is our first example of a *parametric classifier*.\n",
        "The parameter, in this case, is the threshold value $b$."
      ]
    },
    {
      "cell_type": "markdown",
      "id": "cbab268b",
      "metadata": {
        "id": "cbab268b"
      },
      "source": [
        "### Two-dimensional decision boundaries: A line with a slope and intercept\n",
        "\n",
        "Let's now extend this idea to two dimensions. We can represent the decision boundary as a line with a slope and intercept:\n",
        "$$y = wx + b$$\n",
        "\n",
        "where $w$ is the slope and $b$ is the intercep, or bias. And from this line, we can define\n",
        "the decision rule as follows:\n",
        "$$\\text{If } y < wx + b, \\text{ then predict angle 1. Else, predict angle 2.}$$"
      ]
    },
    {
      "cell_type": "code",
      "execution_count": null,
      "id": "e6fa7d5f",
      "metadata": {
        "id": "e6fa7d5f"
      },
      "outputs": [],
      "source": [
        "#@title Let's prepare the 2D data as before {display-mode: \"form\" }\n",
        "\n",
        "neuron_idxs = [91, 34]  # The neurons we'll use for binary classification\n",
        "reach_idx1 = 0  # First reach angle\n",
        "reach_idx2 = 3  # Second reach angle\n",
        "\n",
        "# Extract the data for the two angles\n",
        "X_reach1 = Xplan_angles[reach_idx1, :, neuron_idxs].T\n",
        "X_reach2 = Xplan_angles[reach_idx2, :, neuron_idxs].T\n",
        "\n",
        "# Let's create a label vector for the two angles\n",
        "y_reach1 = np.zeros(X_reach1.shape[0])  # Label for the first angle\n",
        "y_reach2 = np.ones(X_reach2.shape[0])  # Label for the second angle\n",
        "\n",
        "# Let's also randomly split the data into training and test sets.\n",
        "# We'll keep the same number of trials for each angle.\n",
        "n_train = int(0.8 * num_reaches_per_angle)  # 80% for training\n",
        "# Seed the random number generator for reproducibility\n",
        "np.random.seed(2)\n",
        "train_idxs = np.random.choice(num_reaches_per_angle, n_train, replace=False)\n",
        "# This function just returns the indices that are not already in the training set\n",
        "test_idxs = np.setdiff1d(np.arange(num_reaches_per_angle), train_idxs)\n",
        "\n",
        "# Train data\n",
        "X_train_reach1 = X_reach1[train_idxs]\n",
        "X_train_reach2 = X_reach2[train_idxs]\n",
        "y_train_reach1 = y_reach1[train_idxs]\n",
        "y_train_reach2 = y_reach2[train_idxs]\n",
        "X_train = np.concatenate((X_train_reach1, X_train_reach2))\n",
        "y_train = np.concatenate((y_train_reach1, y_train_reach2))\n",
        "\n",
        "# Test data\n",
        "X_test_reach1 = X_reach1[test_idxs]\n",
        "X_test_reach2 = X_reach2[test_idxs]\n",
        "y_test_reach1 = y_reach1[test_idxs]\n",
        "y_test_reach2 = y_reach2[test_idxs]\n",
        "X_test = np.concatenate((X_test_reach1, X_test_reach2))\n",
        "y_test = np.concatenate((y_test_reach1, y_test_reach2))"
      ]
    },
    {
      "cell_type": "markdown",
      "id": "315d4bad",
      "metadata": {
        "id": "315d4bad"
      },
      "source": [
        "Then we can now play around with the slope $w$ and the intercept $b$, and see how they affect the decision boundary and the classification performance."
      ]
    },
    {
      "cell_type": "code",
      "execution_count": null,
      "id": "610c632c",
      "metadata": {
        "colab": {
          "base_uri": "https://localhost:8080/",
          "height": 571,
          "referenced_widgets": [
            "edcb7c5c6bd2476fb54e9f80751769d9",
            "3487c6f3b566431bbb58cb5c8664cb28",
            "fe4b9edc8e234a8c84ed9f4cfb51454f",
            "e38e96c5ca884a72a3f374ddc907b331",
            "e7732d720f944916bc04454a19dac1ca",
            "285ba698a0e04e259f9155ecb0fa8e89",
            "8a3d226eb25f4ee383987c8cbea413ce",
            "cd6fe832352c448b852062e9cc6a5db2",
            "374b0e399bd54ef387aa8685825249c6",
            "73f945f78b2644a39462a7f00da579cb"
          ]
        },
        "id": "610c632c",
        "outputId": "7d5cca4e-8560-4342-e23c-6ec605c4e01e"
      },
      "outputs": [
        {
          "output_type": "display_data",
          "data": {
            "text/plain": [
              "interactive(children=(FloatSlider(value=-0.2, description='w', max=2.0, min=-2.0), FloatSlider(value=5.0, desc…"
            ],
            "application/vnd.jupyter.widget-view+json": {
              "version_major": 2,
              "version_minor": 0,
              "model_id": "edcb7c5c6bd2476fb54e9f80751769d9"
            }
          },
          "metadata": {}
        }
      ],
      "source": [
        "# Let's play around with both the slope, w, and the intercept, b, of the decision boundary\n",
        "@interact(w=widgets.FloatSlider(min=-2, max=2, step=0.1, value=-0.2),\n",
        "          b=widgets.FloatSlider(min=0, max=15, step=0.5, value=5))\n",
        "def plot_decision_boundary(w, b):\n",
        "    plt.figure(figsize=(8, 5))\n",
        "    # Replot the training data\n",
        "    # Spike counts are integer values, and so many data points will overlap.\n",
        "    # Let's add an offset and a small amount of jitter to the y-axis, purely for\n",
        "    # visualization purposes.\n",
        "    # Seed the random number generator for reproducibility\n",
        "    np.random.seed(0)\n",
        "    plt.plot(\n",
        "        X_train_reach1[:, 0] + np.random.normal(0, 0.05, size=X_train_reach1.shape[0]),\n",
        "        X_train_reach1[:, 1] + np.random.normal(0, 0.05, size=X_train_reach1.shape[0]),\n",
        "        'r.',\n",
        "        label=f'{angles[reach_idx1]}° reach',\n",
        "    )\n",
        "    plt.plot(\n",
        "        X_train_reach2[:, 0] + np.random.normal(0, 0.05, size=X_train_reach2.shape[0]),\n",
        "        X_train_reach2[:, 1] + np.random.normal(0, 0.05, size=X_train_reach2.shape[0]),\n",
        "        'b.',\n",
        "        label=f'{angles[reach_idx2]}° reach',\n",
        "    )\n",
        "    # Plot the decision boundary\n",
        "    x_vals = np.linspace(X_train[:, 0].min(), X_train[:, 0].max()-3, 100)\n",
        "    y_vals = w * x_vals + b\n",
        "    plt.plot(x_vals, y_vals, 'm--', label='Decision Boundary')\n",
        "\n",
        "    # Let's also compute classification accuracy for the current slope and intercept\n",
        "\n",
        "    # Predict the labels for the train data\n",
        "    y_pred_train = (X_train @ np.array([w, -1]) + b < 0).astype(int)\n",
        "\n",
        "    # Predict the labels for the test data\n",
        "    y_pred_test = (X_test @ np.array([w, -1]) + b < 0).astype(int)\n",
        "\n",
        "    # Train accuracy\n",
        "    acc_train = accuracy(y_train, y_pred_train)\n",
        "\n",
        "    # Test accuracy\n",
        "    acc_test = accuracy(y_test, y_pred_test)\n",
        "\n",
        "    # Final plot formatting\n",
        "    plt.xlabel(f'Spike Count, Neuron {neuron_idxs[0]}')\n",
        "    plt.ylabel(f'Spike Count, Neuron {neuron_idxs[1]}')\n",
        "    plt.title(f\"Decision Boundary: y={w:.2f}x + {b:.1f}; Train acc: {acc_train:.3f}, Test acc: {acc_test:.3f}\")\n",
        "    plt.legend(loc='upper left', bbox_to_anchor=(1, 1), frameon=False)\n",
        "    plt.tight_layout()\n",
        "    plt.show()"
      ]
    },
    {
      "cell_type": "markdown",
      "id": "a701cc68",
      "metadata": {
        "id": "a701cc68"
      },
      "source": [
        "**_💬 Discussion questions:_**\n",
        "\n",
        "1. How many parameters does our classifier now have?\n",
        "2. At which values of the slope, $w$, and the intercept, $b$, does this classifier perform as well as the KNN classifier (with $k = 5$)?\n",
        "3. Are there values of $w$ and $b$ where this classifier performs even better than the KNN classifier?"
      ]
    },
    {
      "cell_type": "markdown",
      "id": "ec2d575d",
      "metadata": {
        "id": "ec2d575d"
      },
      "source": [
        "### Toward logistic regression\n",
        "\n",
        "Our approach so far has been to manually set the slope and intercept of the decision boundary, and then to classify data points in a binary manner based on whether they fall above or below this line.\n",
        "\n",
        "**_💬 Discussion questions:_**\n",
        "\n",
        "What are the drawbacks of this approach? Consider the following prompts:\n",
        "\n",
        "1. Should points very close to the decision boundary be treated the same as points far away from it?\n",
        "2. What if the data are more complex? Especially, if the data are not clearly separable, and if we start considering more than two neurons?"
      ]
    },
    {
      "cell_type": "markdown",
      "id": "adafe48b",
      "metadata": {
        "id": "adafe48b"
      },
      "source": [
        "#### Probabilities and the logistic sigmoid function\n",
        "\n",
        "To address the first limitation, we'll start working with probabilities.\n",
        "Specifically, we want to be able to answer the following question:\n",
        "\n",
        "*Given a data point, what is the probability that it belongs to class (reach angle) 1?*\n",
        "\n",
        "In math terms, we would write this statement as:\n",
        "$$P(C_1 | \\mathbf{x})$$\n",
        "\n",
        "Review question: What key properties define a probability?\n",
        "- A probability is a value between 0 and 1.\n",
        "- The sum of probabilities for all possible classes must equal 1."
      ]
    },
    {
      "cell_type": "markdown",
      "id": "d1fa71e7",
      "metadata": {
        "id": "d1fa71e7"
      },
      "source": [
        "#### The logistic sigmoid function\n",
        "\n",
        "This brings us to the logistic sigmoid function, which is defined as:\n",
        "$$\\sigma(z) = \\frac{1}{1 + e^{-z}}$$"
      ]
    },
    {
      "cell_type": "markdown",
      "id": "gA56jnauwfEi",
      "metadata": {
        "id": "gA56jnauwfEi"
      },
      "source": [
        "**_📝 Exercise_**\n",
        "\n",
        "To gain intuition, let's implement the logistic sigmoid in code.\n",
        "\n",
        "Wherever you see a `TODO` (there is **one**), attempt to fill in that line of code.\n",
        "\n",
        "You can find the solution below."
      ]
    },
    {
      "cell_type": "code",
      "execution_count": null,
      "id": "EhgEyG7UwoIH",
      "metadata": {
        "id": "EhgEyG7UwoIH"
      },
      "outputs": [],
      "source": [
        "def sigmoid(z: float) -> float:\n",
        "    \"\"\"\n",
        "    Compute the logistic sigmoid function for a given input z.\n",
        "\n",
        "    Parameters\n",
        "    ----------\n",
        "    z : float\n",
        "        The input value for which to compute the sigmoid.\n",
        "\n",
        "    Returns\n",
        "    -------\n",
        "    float\n",
        "        The output of the sigmoid function.\n",
        "    \"\"\"\n",
        "    return None  # TODO: Replace None with your solution (use numpy functions)"
      ]
    },
    {
      "cell_type": "code",
      "execution_count": null,
      "id": "34873b2a",
      "metadata": {
        "id": "34873b2a"
      },
      "outputs": [],
      "source": [
        "#@title Double click to see solution {display-mode: \"form\" }\n",
        "def sigmoid(z: float) -> float:\n",
        "    \"\"\"\n",
        "    Compute the logistic sigmoid function for a given input z.\n",
        "\n",
        "    Parameters\n",
        "    ----------\n",
        "    z : float\n",
        "        The input value for which to compute the sigmoid.\n",
        "\n",
        "    Returns\n",
        "    -------\n",
        "    float\n",
        "        The output of the sigmoid function.\n",
        "    \"\"\"\n",
        "    return 1 / (1 + np.exp(-z))  # SOLUTION"
      ]
    },
    {
      "cell_type": "code",
      "execution_count": null,
      "id": "a93d75be",
      "metadata": {
        "id": "a93d75be"
      },
      "outputs": [],
      "source": [
        "# Let's plot the sigmoid function for a range of z values\n",
        "z_values = np.linspace(-10, 10, 100)\n",
        "sigmoid_values = sigmoid(z_values)\n",
        "plt.figure(figsize=(8, 4))\n",
        "plt.axhline(0.5, color='gray', linestyle='--')\n",
        "plt.axvline(0, color='gray', linestyle='--')\n",
        "plt.plot(z_values, sigmoid_values, color='b')\n",
        "plt.title('Logistic Sigmoid Function')\n",
        "plt.xlabel('z')\n",
        "plt.ylabel('sigmoid(z)')\n",
        "plt.ylim(-0.1, 1.1)\n",
        "plt.show()"
      ]
    },
    {
      "cell_type": "markdown",
      "id": "b92fd53a",
      "metadata": {
        "id": "b92fd53a"
      },
      "source": [
        "This function is promising so far: for all input values $z$, it outputs a value between 0 and 1, which is exactly what we want for a probability.\n",
        "\n",
        "But now, let's add another definition on top of $z$:\n",
        "$$z = w \\cdot x + b$$\n",
        "\n",
        "So $z$ is now a linear function of an input variable $x$, with a weight parameter $w$ and a bias parameter $b$.\n",
        "\n",
        "Let's now replot the logistic sigmoid function, but this time as a function of $x$,\n",
        "rather than $z$. Specifically,\n",
        "$$\\sigma(w \\cdot x + b) = \\frac{1}{1 + e^{-(w \\cdot x + b)}}$$"
      ]
    },
    {
      "cell_type": "code",
      "execution_count": null,
      "id": "57fdf231",
      "metadata": {
        "id": "57fdf231"
      },
      "outputs": [],
      "source": [
        "# Let's play around with the logistic sigmoid as a function of x, as the parameters\n",
        "# w and b change\n",
        "@interact(w=widgets.FloatSlider(min=-5, max=5, step=0.05, value=1.0),\n",
        "          b=widgets.FloatSlider(min=-5, max=5, step=0.5, value=0))\n",
        "def plot_sigmoid(w, b):\n",
        "    plt.figure(figsize=(8, 4))\n",
        "    # Compute the sigmoid function for a range of x values\n",
        "    x_vals = np.linspace(-10, 10, 100)\n",
        "    z_vals = w * x_vals + b\n",
        "    sigmoid_vals = sigmoid(z_vals)\n",
        "\n",
        "    # Plot the sigmoid function\n",
        "    plt.axhline(0.5, color='gray', linestyle='--')\n",
        "    # Plot the vertical line where the sigmoid crosses 0.5\n",
        "    plt.axvline(-b/w if w != 0 else 0, color='gray', linestyle='--')\n",
        "    plt.plot(x_vals, sigmoid_vals, color='b')\n",
        "\n",
        "    plt.title(f'Sigmoid Function: w={w:.2f}, b={b:.1f}')\n",
        "    plt.xlabel('x')\n",
        "    plt.ylabel('sigmoid(wx + b)')\n",
        "    plt.ylim(-0.1, 1.1)\n",
        "    plt.show()"
      ]
    },
    {
      "cell_type": "markdown",
      "id": "94f89f89",
      "metadata": {
        "id": "94f89f89"
      },
      "source": [
        "**_💬 Discussion questions:_**\n",
        "\n",
        "1. What effect does the weight $w$ have on the shape of the logistic sigmoid function? What happens when the magnitude of $w$ is very large or very small?\n",
        "2. What effect does the bias $b$ have on the shape of the logistic sigmoid function?\n",
        "3. What happens when $w$ becomes negative?"
      ]
    },
    {
      "cell_type": "markdown",
      "id": "c49cde3d",
      "metadata": {
        "id": "c49cde3d"
      },
      "source": [
        "#### Class probabilities\n",
        "\n",
        "Here's the key point: as a function of our data points $x$, the logistic sigmoid\n",
        "satisfies the key properties for defining probabilities. We will then define the probability of class 1 as follows:\n",
        "$$P(C_1 | \\mathbf{x}) = \\sigma(w \\cdot x + b) = \\frac{1}{1 + e^{-(w \\cdot x + b)}}$$\n",
        "\n",
        "**_💬 Discussion questions:_**\n",
        "\n",
        "How do we define the probability of class 2?"
      ]
    },
    {
      "cell_type": "code",
      "execution_count": null,
      "id": "abaefc35",
      "metadata": {
        "id": "abaefc35"
      },
      "outputs": [],
      "source": [
        "# As an extra demo, let's visualize class probabilities for two classes, based on the\n",
        "# logistic sigmoid function\n",
        "@interact(w=widgets.FloatSlider(min=-5, max=5, step=0.05, value=1.0),\n",
        "          b=widgets.FloatSlider(min=-5, max=5, step=0.5, value=0))\n",
        "def plot_class_probabilities(w, b):\n",
        "    plt.figure(figsize=(8, 4))\n",
        "    # Compute the sigmoid function for a range of x values\n",
        "    x_vals = np.linspace(-10, 10, 100)\n",
        "    z_vals = w * x_vals + b\n",
        "    sigmoid_vals = sigmoid(z_vals)\n",
        "\n",
        "    # Plot the sigmoid function\n",
        "    plt.axhline(0.5, color='gray', linestyle='--')\n",
        "    # Plot the vertical line where the sigmoid crosses 0.5\n",
        "    plt.axvline(-b/w if w != 0 else 0, color='gray', linestyle='--')\n",
        "    # Probability of Class 1\n",
        "    plt.plot(x_vals, sigmoid_vals, color='b', label='Probability of Class 1')\n",
        "    # Probability of Class 2\n",
        "    plt.plot(x_vals, 1 - sigmoid_vals, color='r', label='Probability of Class 2')\n",
        "\n",
        "    plt.title(f'Class Probabilities: w={w:.2f}, b={b:.1f}')\n",
        "    plt.xlabel('x')\n",
        "    plt.ylabel('Class probability')\n",
        "    plt.ylim(-0.1, 1.1)\n",
        "    plt.legend(loc='upper left', bbox_to_anchor=(1, 1), frameon=False)\n",
        "    plt.tight_layout()\n",
        "    plt.show()"
      ]
    },
    {
      "cell_type": "markdown",
      "id": "9df4ba18",
      "metadata": {
        "id": "9df4ba18"
      },
      "source": [
        "#### A logistic classifier\n",
        "\n",
        "With the logistic sigmoid function, we now have a way to define the probability that a data point belongs to each class.\n",
        "\n",
        "How do we use these probabilities to classify the data points? We can set a threshold on the probability:\n",
        "$$\\text{If } P(C_1 | \\mathbf{x}) > 0.5, \\text{ then predict class 1. Else, predict class 2.}$$"
      ]
    },
    {
      "cell_type": "markdown",
      "id": "1a74c132",
      "metadata": {
        "id": "1a74c132"
      },
      "source": [
        "And now let's start applying this logistic sigmoid classifier to our data\n",
        "points, starting with the 1D case:"
      ]
    },
    {
      "cell_type": "code",
      "execution_count": null,
      "id": "9ff882f7",
      "metadata": {
        "id": "9ff882f7"
      },
      "outputs": [],
      "source": [
        "#@title Let's prepare the 1D data as before {display-mode: \"form\" }\n",
        "\n",
        "neuron_idx = 91  # The neuron we'll use for binary classification\n",
        "reach_idx1 = 0  # First reach angle\n",
        "reach_idx2 = 3  # Second reach angle\n",
        "\n",
        "# Extract the data for the two angles\n",
        "X_reach1 = Xplan_angles[reach_idx1, :, neuron_idx]\n",
        "X_reach2 = Xplan_angles[reach_idx2, :, neuron_idx]\n",
        "\n",
        "# Let's create a label vector for the two angles\n",
        "y_reach1 = np.zeros(X_reach1.shape[0])  # Label for the first angle\n",
        "y_reach2 = np.ones(X_reach2.shape[0])   # Label for the second angle\n",
        "\n",
        "# Let's also randomly split the data into training and test sets.\n",
        "# We'll keep the same number of trials for each angle.\n",
        "n_train = int(0.8 * num_reaches_per_angle)  # 80% for training\n",
        "# Seed the random number generator for reproducibility\n",
        "np.random.seed(2)\n",
        "train_idxs = np.random.choice(num_reaches_per_angle, n_train, replace=False)\n",
        "# This function just returns the indices that are not already in the training set\n",
        "test_idxs = np.setdiff1d(np.arange(num_reaches_per_angle), train_idxs)\n",
        "\n",
        "# Train data\n",
        "X_train_reach1 = X_reach1[train_idxs]\n",
        "X_train_reach2 = X_reach2[train_idxs]\n",
        "y_train_reach1 = y_reach1[train_idxs]\n",
        "y_train_reach2 = y_reach2[train_idxs]\n",
        "X_train = np.concatenate((X_train_reach1, X_train_reach2))\n",
        "y_train = np.concatenate((y_train_reach1, y_train_reach2))\n",
        "\n",
        "# Test data\n",
        "X_test_reach1 = X_reach1[test_idxs]\n",
        "X_test_reach2 = X_reach2[test_idxs]\n",
        "y_test_reach1 = y_reach1[test_idxs]\n",
        "y_test_reach2 = y_reach2[test_idxs]\n",
        "X_test = np.concatenate((X_test_reach1, X_test_reach2))\n",
        "y_test = np.concatenate((y_test_reach1, y_test_reach2))"
      ]
    },
    {
      "cell_type": "code",
      "execution_count": null,
      "id": "1d13a659",
      "metadata": {
        "id": "1d13a659"
      },
      "outputs": [],
      "source": [
        "# And now let's start playing with the sigmoid function on our data\n",
        "@interact(w=widgets.FloatSlider(min=0, max=5, step=0.05, value=0.5),\n",
        "          b=widgets.FloatSlider(min=-12, max=0, step=0.5, value=-2.0))\n",
        "def plot_sigmoid_on_data(w, b):\n",
        "    plt.figure(figsize=(8, 5))\n",
        "    # Run the data through a logistic sigmoid classifier\n",
        "    # Train\n",
        "    z_train = w * X_train + b\n",
        "    sigmoid_train = sigmoid(z_train)\n",
        "    y_pred_train = (sigmoid_train > 0.5).astype(int)\n",
        "    acc_train = accuracy(y_train, y_pred_train)\n",
        "\n",
        "    # Test\n",
        "    z_test = w * X_test + b\n",
        "    sigmoid_test = sigmoid(z_test)\n",
        "    y_pred_test = (sigmoid_test > 0.5).astype(int)\n",
        "    acc_test = accuracy(y_test, y_pred_test)\n",
        "\n",
        "    # Compute the sigmoid function for a range of x values\n",
        "    x_vals = np.linspace(0, 12, 100)\n",
        "    z_vals = w * x_vals + b\n",
        "    sigmoid_vals = sigmoid(z_vals)\n",
        "\n",
        "    # Plot the sigmoid function for the training data\n",
        "    plt.axhline(0.5, color='gray', linestyle='--')\n",
        "    # Plot the vertical line where the sigmoid crosses 0.5\n",
        "    plt.axvline(-b/w if w != 0 else 0, color='gray', linestyle='--')\n",
        "    plt.plot(x_vals, sigmoid_vals, color='b')\n",
        "\n",
        "    # Replot the training data\n",
        "    # Spike counts are integer values, and so many data points will overlap.\n",
        "    # Let's add an offset and a small amount of jitter to the y-axis, purely for\n",
        "    # visualization purposes.\n",
        "    # Seed the random number generator for reproducibility\n",
        "    np.random.seed(0)\n",
        "    plt.plot(\n",
        "        X_train_reach1,\n",
        "        np.random.normal(0, 0.02, size=y_train_reach1.shape),\n",
        "        'r.',\n",
        "        label=f'{angles[reach_idx1]}° reach',\n",
        "    )\n",
        "    plt.plot(\n",
        "        X_train_reach2,\n",
        "        1.0 + np.random.normal(0, 0.02, size=y_train_reach2.shape),\n",
        "        'b.',\n",
        "        label=f'{angles[reach_idx2]}° reach',\n",
        "    )\n",
        "\n",
        "    # Final plot formatting\n",
        "    plt.xlabel(f'Spike Count, Neuron {neuron_idx}')\n",
        "    plt.ylabel(f'Probability of Reach {angles[reach_idx2]}°')\n",
        "    plt.title(f\"Logistic Classifier: w={w:.2f}, b={b:.1f}; Train acc: {acc_train:.3f}, Test acc: {acc_test:.3f}\")\n",
        "    plt.legend(loc='upper left', bbox_to_anchor=(1, 1), frameon=False)\n",
        "    plt.tight_layout()\n",
        "    plt.show()"
      ]
    },
    {
      "cell_type": "markdown",
      "id": "64db3c54",
      "metadata": {
        "id": "64db3c54"
      },
      "source": [
        "**_💬 Discussion questions:_**\n",
        "\n",
        "1. At which values of $w$ and $b$ does this classifier perform best? Is that performance the same or different from our simple threshold classifier before?\n",
        "2. Is there a range of values for $w$ and $b$ where the classifier still performs well? If so, roughly, what are those ranges?\n",
        "3. For one of the good classifiers you found, what is the probability of class 1 for a data point with a spike counts of the following values:\n",
        "    - 0\n",
        "    - 10\n",
        "    - 2\n",
        "\n",
        "  Think about the proportion of red points and blue points at each spike count value. How do the probabilities you found compare to the proportions of red and blue points at those spike counts?"
      ]
    },
    {
      "cell_type": "markdown",
      "id": "b7bab7f7",
      "metadata": {
        "id": "b7bab7f7"
      },
      "source": [
        "### Two-dimensional logistic classifier"
      ]
    },
    {
      "cell_type": "markdown",
      "id": "f3cdb55f",
      "metadata": {
        "id": "f3cdb55f"
      },
      "source": [
        "So how do we extend the logistic classifier to two dimensions? We can use the same\n",
        "logistic sigmoid function, but now with two weights and a bias:\n",
        "$$P(C_1 | \\mathbf{x}) = \\sigma(w_1 x_1 + w_2 x_2 + b) = \\frac{1}{1 + e^{-(w_1 x_1 + w_2 x_2 + b)}}$$\n",
        "\n",
        "We can also rewrite this expression with vectors as follows:\n",
        "$$P(C_1 | \\mathbf{x}) = \\sigma(\\mathbf{w}^{\\intercal} \\mathbf{x} + b) = \\frac{1}{1 + e^{-(\\mathbf{w}^{\\intercal} \\mathbf{x} + b)}}$$\n",
        "where $\\mathbf{w} = [w_1, w_2]^{\\intercal}$ is a vector of weights, and $\\mathbf{x} = [x_1, x_2]^{\\intercal}$ is a vector of input features.\n",
        "\n",
        "Just as with the 1D case, we can define the probability of class 2 as:\n",
        "$$P(C_2 | \\mathbf{x}) = 1 - P(C_1 | \\mathbf{x}) = 1 - \\sigma(\\mathbf{w}^{\\intercal} \\mathbf{x} + b)$$\n",
        "\n",
        "And we can use the same thresholding rule to classify the data points:\n",
        "$$\\text{If } P(C_1 | \\mathbf{x}) > 0.5, \\text{ then predict class 1. Else, predict class 2.}$$\n",
        "\n",
        "Let's then explore the behavior of this classifier on our 2D data."
      ]
    },
    {
      "cell_type": "code",
      "execution_count": null,
      "id": "90377ab8",
      "metadata": {
        "id": "90377ab8"
      },
      "outputs": [],
      "source": [
        "#@title Let's prepare the 2D data as before {display-mode: \"form\" }\n",
        "\n",
        "neuron_idxs = [91, 34]  # The neurons we'll use for binary classification\n",
        "reach_idx1 = 0  # First reach angle\n",
        "reach_idx2 = 3  # Second reach angle\n",
        "\n",
        "# Extract the data for the two angles\n",
        "X_reach1 = Xplan_angles[reach_idx1, :, neuron_idxs].T\n",
        "X_reach2 = Xplan_angles[reach_idx2, :, neuron_idxs].T\n",
        "\n",
        "# Let's create a label vector for the two angles\n",
        "y_reach1 = np.zeros(X_reach1.shape[0])  # Label for the first angle\n",
        "y_reach2 = np.ones(X_reach2.shape[0])  # Label for the second angle\n",
        "\n",
        "# Let's also randomly split the data into training and test sets.\n",
        "# We'll keep the same number of trials for each angle.\n",
        "n_train = int(0.8 * num_reaches_per_angle)  # 80% for training\n",
        "# Seed the random number generator for reproducibility\n",
        "np.random.seed(2)\n",
        "train_idxs = np.random.choice(num_reaches_per_angle, n_train, replace=False)\n",
        "# This function just returns the indices that are not already in the training set\n",
        "test_idxs = np.setdiff1d(np.arange(num_reaches_per_angle), train_idxs)\n",
        "\n",
        "# Train data\n",
        "X_train_reach1 = X_reach1[train_idxs]\n",
        "X_train_reach2 = X_reach2[train_idxs]\n",
        "y_train_reach1 = y_reach1[train_idxs]\n",
        "y_train_reach2 = y_reach2[train_idxs]\n",
        "X_train = np.concatenate((X_train_reach1, X_train_reach2))\n",
        "y_train = np.concatenate((y_train_reach1, y_train_reach2))\n",
        "\n",
        "# Test data\n",
        "X_test_reach1 = X_reach1[test_idxs]\n",
        "X_test_reach2 = X_reach2[test_idxs]\n",
        "y_test_reach1 = y_reach1[test_idxs]\n",
        "y_test_reach2 = y_reach2[test_idxs]\n",
        "X_test = np.concatenate((X_test_reach1, X_test_reach2))\n",
        "y_test = np.concatenate((y_test_reach1, y_test_reach2))"
      ]
    },
    {
      "cell_type": "code",
      "execution_count": null,
      "id": "ce0a5574",
      "metadata": {
        "id": "ce0a5574"
      },
      "outputs": [],
      "source": [
        "# Let's play around with all three parameters, w_1, w_2, and b, of the decision boundary\n",
        "@interact(w1=widgets.FloatSlider(min=-2, max=2, step=0.1, value=-0.5),\n",
        "          w2=widgets.FloatSlider(min=-2, max=2, step=0.1, value=0.5),\n",
        "          b=widgets.FloatSlider(min=-12, max=0, step=0.5, value=-2.0))\n",
        "def plot_decision_boundary(w1, w2, b):\n",
        "    plt.figure(figsize=(8, 5))\n",
        "    # Replot the training data\n",
        "    # Spike counts are integer values, and so many data points will overlap.\n",
        "    # Let's add an offset and a small amount of jitter to the y-axis, purely for\n",
        "    # visualization purposes.\n",
        "    # Seed the random number generator for reproducibility\n",
        "    np.random.seed(0)\n",
        "    plt.plot(\n",
        "        X_train_reach1[:, 0] + np.random.normal(0, 0.05, size=X_train_reach1.shape[0]),\n",
        "        X_train_reach1[:, 1] + np.random.normal(0, 0.05, size=X_train_reach1.shape[0]),\n",
        "        'r.',\n",
        "        label=f'{angles[reach_idx1]}° reach',\n",
        "    )\n",
        "    plt.plot(\n",
        "        X_train_reach2[:, 0] + np.random.normal(0, 0.05, size=X_train_reach2.shape[0]),\n",
        "        X_train_reach2[:, 1] + np.random.normal(0, 0.05, size=X_train_reach2.shape[0]),\n",
        "        'b.',\n",
        "        label=f'{angles[reach_idx2]}° reach',\n",
        "    )\n",
        "    # Plot the heat map based on the logistic sigmoid function in 2D\n",
        "    x_vals = np.linspace(X_train[:, 0].min()-1, X_train[:, 0].max()+1, 100)\n",
        "    y_vals = np.linspace(X_train[:, 1].min()-1, X_train[:, 1].max()+1, 100)\n",
        "    xx, yy = np.meshgrid(x_vals, y_vals)\n",
        "    z_vals = w1 * xx + w2 * yy + b\n",
        "    sigmoid_vals = sigmoid(z_vals)\n",
        "\n",
        "    # Plot grid and associated sigmoid values\n",
        "    plt.pcolormesh(xx, yy, sigmoid_vals, shading='auto', cmap='coolwarm_r', alpha=0.8)\n",
        "    plt.colorbar(label='Probability of Class 1')\n",
        "\n",
        "    # Predict the labels for the train data\n",
        "    z_train = X_train @ np.array([w1, w2]) + b\n",
        "    sigmoid_train = sigmoid(z_train)\n",
        "    y_pred_train = (sigmoid_train > 0.5).astype(int)\n",
        "\n",
        "    # Predict the labels for the test data\n",
        "    z_test = X_test @ np.array([w1, w2]) + b\n",
        "    sigmoid_test = sigmoid(z_test)\n",
        "    y_pred_test = (sigmoid_test > 0.5).astype(int)\n",
        "\n",
        "    # Train accuracy\n",
        "    acc_train = accuracy(y_train, y_pred_train)\n",
        "\n",
        "    # Test accuracy\n",
        "    acc_test = accuracy(y_test, y_pred_test)\n",
        "\n",
        "    # Final plot formatting\n",
        "    plt.xlabel(f'Spike Count, Neuron {neuron_idxs[0]}')\n",
        "    plt.ylabel(f'Spike Count, Neuron {neuron_idxs[1]}')\n",
        "    plt.title(f\"w1={w1:.2f}, w2={w2:.2f}, b={b:.1f}; Train acc: {acc_train:.3f}, Test acc: {acc_test:.3f}\")\n",
        "    plt.legend(loc='lower right', frameon=False)\n",
        "    plt.tight_layout()\n",
        "    plt.show()"
      ]
    },
    {
      "cell_type": "markdown",
      "id": "67bca23a",
      "metadata": {
        "id": "67bca23a"
      },
      "source": [
        "**_💬 Discussion questions:_**\n",
        "\n",
        "1. Where is the decision boundary in the above plot? What is it's shape? At the boundary, which class has a higher probability?\n",
        "2. At which values of $w_1$, $w_2$, and $b$ does this classifier perform best? Is that performance the same or different from our simple threshold classifier before?\n",
        "3. Was it harder or easier to find good values for $w_1$, $w_2$, and $b$ than it was to find good values for $w$ and $b$ in the 1D case? Why?\n",
        "4. Suppose we next used three neurons, instead of two neurons to classify these data. How many parameters will be in the three-neuron model? What if we used 100 neurons?"
      ]
    },
    {
      "cell_type": "markdown",
      "id": "2b15621b",
      "metadata": {
        "id": "2b15621b"
      },
      "source": [
        "### Logistic regression\n",
        "\n",
        "You may have noticed that it gets harder to find good values for the weight and\n",
        "bias parameters as the data become more complex: either higher-dimensional, or more\n",
        "difficult to separate by class. Can we instead automate the procedure for finding\n",
        "good parameter values?\n",
        "\n",
        "This brings us to the concept of *logistic regression*, a *supervised learning* method\n",
        "that learns the parameters of a logistic classifier from labeled training data.\n",
        "\n",
        "To train a logistic regression model, we need the following key components:\n",
        "1. **Training Data**: A set of labeled data points, where each point has a feature\n",
        "vector $\\mathbf{x}$ and a corresponding class label $y$.\n",
        "2. **Objective Function** or **Loss Function**: A function that quantifies how well the\n",
        "model's predictions match the true labels.\n",
        "3. **Optimization Algorithm**: An algorithm to minimize the loss function and find the\n",
        "optimal parameters.\n",
        "\n",
        "Then once we fit the model to the training data, we want to evaluate its performance\n",
        "on unseen test data."
      ]
    },
    {
      "cell_type": "markdown",
      "id": "d032f6a8",
      "metadata": {
        "id": "d032f6a8"
      },
      "source": [
        "### The logistic regression objective function\n",
        "\n",
        "**_💬 Discussion questions:_**\n",
        "\n",
        "1. What is our objective with classification?\n",
        "2. Could we use that objective to train a classification model? Why or why not?"
      ]
    },
    {
      "cell_type": "markdown",
      "id": "6e580bda",
      "metadata": {
        "id": "6e580bda"
      },
      "source": [
        "We cannot use the classification accuracy directly as our objective function for\n",
        "training a classification model because it is not a differentiable function. We\n",
        "therefore cannot compute gradients with respect to the model parameters.\n",
        "\n",
        "We then want an objective function that is smooth and differentiable, making it\n",
        "suitable for optimization algorithms like gradient descent.\n",
        "\n",
        "This is where probabilities again provide a significant advantage. We can use the\n",
        "probabilities we defined earlier to create such an objective function.\n",
        "\n",
        "Let's start by defining the likelihood of the data given the model parameters.\n",
        "- Likelihood: The probability of observing the training data given the model parameters.\n",
        "- The likelihood for a single data point is given by:\n",
        "$$P(y_i | \\mathbf{x}_i, \\mathbf{w}, b) = P(C_1 | \\mathbf{x}_i)^{y_i} P(C_2 | \\mathbf{x}_i)^{1 - y_i}$$\n",
        "where $y_i$ is the true class label for data point $\\mathbf{x}_i$ (1 for class 1, 0 for class 2), and $P(C_1 | \\mathbf{x}_i)$ is the predicted probability of class 1 given the input features $\\mathbf{x}_i$.\n",
        "- If we assume that the data points are independent, the likelihood of the entire dataset is the product of the individual likelihoods:\n",
        "$$P(\\mathbf{y} | \\mathbf{X}, \\mathbf{w}, b) = \\prod_{i=1}^{n} P(y_i | \\mathbf{x}_i, \\mathbf{w}, b) = \\prod_{i=1}^{n} P(C_1 | \\mathbf{x}_i)^{y_i} P(C_2 | \\mathbf{x}_i)^{1 - y_i}$$\n",
        "where $\\mathbf{y}$ is the vector of true class labels for all data points, $\\mathbf{X}$ is the matrix of input features, and $n$ is the number of data points.\n",
        "\n",
        "We seek a model that maximizes this likelihood function. This approach is known as *maximum likelihood estimation* (MLE). We could try to optimize this likelihood function directly. We will instead take its logarithm:\n",
        "$$\\log P(\\mathbf{y} | \\mathbf{X}, \\mathbf{w}, b) = \\sum_{i=1}^{n} \\left[ y_i \\log(P(C_1 | \\mathbf{x}_i)) + (1 - y_i) \\log(P(C_2 | \\mathbf{x}_i)) \\right]$$\n",
        "\n",
        "We take the logarithm for two reasons:\n",
        "1. It transforms the product into a sum, which is easier to work with mathematically and numerically.\n",
        "2. The parameters that maximize the log-likelihood will also maximize the original likelihood function, so we can use the log-likelihood as our objective function, and arrive at the same set of parameters.\n",
        "\n",
        "In the machine learning literature, the common practice is to *minimize* a *loss function*. As one final step, then, we can define the loss function as the negative log-likelihood, and also normalize by the number of training data points:\n",
        "$$L(\\mathbf{w}, b) = -\\frac{1}{n} \\sum_{i=1}^{n} \\left[ (1 - y_i) \\log(P(C_1 | \\mathbf{x}_i)) + y_i \\log(P(C_2 | \\mathbf{x}_i)) \\right]$$\n",
        "\n",
        "This loss function is commonly known as the *cross-entropy loss* or *logistic loss*.\n",
        "\n",
        "Recall that the predicted probabilities are given by the sigmoid function:\n",
        "$$P(C_1 | \\mathbf{x}_i) = \\sigma(\\mathbf{w}^{\\intercal} \\mathbf{x}_i + b)$$\n",
        "$$P(C_2 | \\mathbf{x}_i) = 1 - \\sigma(\\mathbf{w}^{\\intercal} \\mathbf{x}_i + b)$$\n",
        "\n",
        "If we then plug in the expression for the predicted probabilities, we get, as a complete\n",
        "expression for the loss function:\n",
        "$$L(\\mathbf{w}, b) = -\\frac{1}{n} \\sum_{i=1}^{n} \\left[ y_i  \\cdot \\log\\left(\\sigma(\\mathbf{w}^{\\intercal} \\mathbf{x}_i + b)\\right) + (1 - y_i) \\cdot \\log\\left(1 - \\sigma(\\mathbf{w}^{\\intercal} \\mathbf{x}_i + b)\\right) \\right]$$"
      ]
    },
    {
      "cell_type": "markdown",
      "id": "52217ddf",
      "metadata": {
        "id": "52217ddf"
      },
      "source": [
        "#### Logistic loss function intuition"
      ]
    },
    {
      "cell_type": "code",
      "execution_count": null,
      "id": "01071aa1",
      "metadata": {
        "id": "01071aa1"
      },
      "outputs": [],
      "source": [
        "#@title Let's go back to our 1D data {display-mode: \"form\" }\n",
        "\n",
        "neuron_idx = 91  # The neuron we'll use for binary classification\n",
        "reach_idx1 = 0  # First reach angle\n",
        "reach_idx2 = 3  # Second reach angle\n",
        "\n",
        "# Extract the data for the two angles\n",
        "X_reach1 = Xplan_angles[reach_idx1, :, neuron_idx]\n",
        "X_reach2 = Xplan_angles[reach_idx2, :, neuron_idx]\n",
        "\n",
        "# Let's create a label vector for the two angles\n",
        "y_reach1 = np.zeros(X_reach1.shape[0])  # Label for the first angle\n",
        "y_reach2 = np.ones(X_reach2.shape[0])   # Label for the second angle\n",
        "\n",
        "# Let's also randomly split the data into training and test sets.\n",
        "# We'll keep the same number of trials for each angle.\n",
        "n_train = int(0.8 * num_reaches_per_angle)  # 80% for training\n",
        "# Seed the random number generator for reproducibility\n",
        "np.random.seed(2)\n",
        "train_idxs = np.random.choice(num_reaches_per_angle, n_train, replace=False)\n",
        "# This function just returns the indices that are not already in the training set\n",
        "test_idxs = np.setdiff1d(np.arange(num_reaches_per_angle), train_idxs)\n",
        "\n",
        "# Train data\n",
        "X_train_reach1 = X_reach1[train_idxs]\n",
        "X_train_reach2 = X_reach2[train_idxs]\n",
        "y_train_reach1 = y_reach1[train_idxs]\n",
        "y_train_reach2 = y_reach2[train_idxs]\n",
        "X_train = np.concatenate((X_train_reach1, X_train_reach2))\n",
        "y_train = np.concatenate((y_train_reach1, y_train_reach2))\n",
        "\n",
        "# Test data\n",
        "X_test_reach1 = X_reach1[test_idxs]\n",
        "X_test_reach2 = X_reach2[test_idxs]\n",
        "y_test_reach1 = y_reach1[test_idxs]\n",
        "y_test_reach2 = y_reach2[test_idxs]\n",
        "X_test = np.concatenate((X_test_reach1, X_test_reach2))\n",
        "y_test = np.concatenate((y_test_reach1, y_test_reach2))"
      ]
    },
    {
      "cell_type": "code",
      "execution_count": null,
      "id": "20dcae91",
      "metadata": {
        "id": "20dcae91"
      },
      "outputs": [],
      "source": [
        "# Let's implement the cross-entropy loss function\n",
        "def cross_entropy_loss(y_true: np.ndarray, w: np.ndarray, b: float, X: np.ndarray) -> float:\n",
        "    \"\"\"\n",
        "    Compute the cross-entropy loss for logistic regression.\n",
        "\n",
        "    Parameters\n",
        "    ----------\n",
        "    y_true : numpy array, shape (n,)\n",
        "        True labels (0 or 1).\n",
        "    w : numpy array, shape (d,)\n",
        "        Weights of the logistic regression model.\n",
        "    b : float\n",
        "        Bias term of the logistic regression model.\n",
        "    X : numpy array, shape (n, d)\n",
        "        Input features.\n",
        "\n",
        "    Returns\n",
        "    -------\n",
        "    loss : float\n",
        "        The cross-entropy loss.\n",
        "    \"\"\"\n",
        "    # If w is a float, convert it to a 1D array\n",
        "    if np.isscalar(w):\n",
        "        w = np.array([w])\n",
        "    if len(X.shape) == 1:\n",
        "        X = X.reshape(-1, 1)\n",
        "    z = X @ w + b\n",
        "    p = sigmoid(z)\n",
        "    # Clip for numerical stability\n",
        "    p = np.clip(p, 1e-12, 1 - 1e-12)\n",
        "    # Compute the cross-entropy loss\n",
        "    loss = -np.mean(y_true * np.log(p) + (1 - y_true) * np.log(1 - p))\n",
        "    return loss"
      ]
    },
    {
      "cell_type": "code",
      "execution_count": null,
      "id": "45457bb2",
      "metadata": {
        "id": "45457bb2"
      },
      "outputs": [],
      "source": [
        "# And now let's start playing with the sigmoid function on our data\n",
        "@interact(w=widgets.FloatSlider(min=-5, max=5, step=0.05, value=0.5),\n",
        "          b=widgets.FloatSlider(min=-12, max=0, step=0.5, value=-2.0))\n",
        "def plot_sigmoid_on_data(w, b):\n",
        "    plt.figure(figsize=(8, 5))\n",
        "    # Run the data through a logistic sigmoid classifier\n",
        "    # Train\n",
        "    z_train = w * X_train + b\n",
        "    sigmoid_train = sigmoid(z_train)\n",
        "    y_pred_train = (sigmoid_train > 0.5).astype(int)\n",
        "    acc_train = accuracy(y_train, y_pred_train)\n",
        "    log_likelihood_train = -cross_entropy_loss(y_train, w, b, X_train)\n",
        "\n",
        "    # Test\n",
        "    z_test = w * X_test + b\n",
        "    sigmoid_test = sigmoid(z_test)\n",
        "    y_pred_test = (sigmoid_test > 0.5).astype(int)\n",
        "    acc_test = accuracy(y_test, y_pred_test)\n",
        "    log_likelihood_test = -cross_entropy_loss(y_test, w, b, X_test)\n",
        "\n",
        "    # Compute the sigmoid function for a range of x values\n",
        "    x_vals = np.linspace(0, 12, 100)\n",
        "    z_vals = w * x_vals + b\n",
        "    sigmoid_vals = sigmoid(z_vals)\n",
        "\n",
        "    # Plot the sigmoid function for the training data\n",
        "    plt.axhline(0.5, color='gray', linestyle='--')\n",
        "    # Plot the vertical line where the sigmoid crosses 0.5\n",
        "    plt.axvline(-b/w if w != 0 else 0, color='gray', linestyle='--')\n",
        "    plt.plot(x_vals, sigmoid_vals, color='b')\n",
        "\n",
        "    # Replot the training data\n",
        "    # Spike counts are integer values, and so many data points will overlap.\n",
        "    # Let's add an offset and a small amount of jitter to the y-axis, purely for\n",
        "    # visualization purposes.\n",
        "    # Seed the random number generator for reproducibility\n",
        "    np.random.seed(0)\n",
        "    plt.plot(\n",
        "        X_train_reach1,\n",
        "        np.random.normal(0, 0.02, size=y_train_reach1.shape),\n",
        "        'r.',\n",
        "        label=f'{angles[reach_idx1]}° reach',\n",
        "    )\n",
        "    plt.plot(\n",
        "        X_train_reach2,\n",
        "        1.0 + np.random.normal(0, 0.02, size=y_train_reach2.shape),\n",
        "        'b.',\n",
        "        label=f'{angles[reach_idx2]}° reach',\n",
        "    )\n",
        "\n",
        "    # Final plot formatting\n",
        "    plt.xlabel(f'Spike Count, Neuron {neuron_idx}')\n",
        "    plt.ylabel(f'Probability of Reach {angles[reach_idx2]}°')\n",
        "    plt.title(f\"w={w:.2f}, b={b:.1f}; Train acc: {acc_train:.3f}, Train LL: {log_likelihood_train:.3f}, Test acc: {acc_test:.3f}, Test LL: {log_likelihood_test:.3f}\")\n",
        "    plt.legend(loc='upper left', bbox_to_anchor=(1, 1), frameon=False)\n",
        "    plt.tight_layout()\n",
        "    plt.show()"
      ]
    },
    {
      "cell_type": "markdown",
      "id": "86fa9feb",
      "metadata": {
        "id": "86fa9feb"
      },
      "source": [
        "**_💬 Discussion questions:_**\n",
        "\n",
        "1. How does the log-likelihood relate to the classification accuracy? As classification accuracy increases, what happens to the log-likelihood?\n",
        "2. At what values of $w$ and $b$ does the log-likelihood reach its maximum? Are these the same values that you identified earlier?"
      ]
    },
    {
      "cell_type": "markdown",
      "id": "go52tqKR097U",
      "metadata": {
        "id": "go52tqKR097U"
      },
      "source": [
        "Let's go through the same excericise, but this time, let's fix the bias term, and only adjust the weight. Then we'll also visualize the cross-entropy loss as a function of the weight parameter."
      ]
    },
    {
      "cell_type": "code",
      "execution_count": null,
      "id": "d3fc051c",
      "metadata": {
        "id": "d3fc051c"
      },
      "outputs": [],
      "source": [
        "# Precompute the cross-entropy loss curve for all w values\n",
        "b = -3.5  # Fixed bias term\n",
        "w_vals = np.linspace(0, 5, 100)\n",
        "losses = [cross_entropy_loss(y_train, w, b, X_train) for w in w_vals]\n",
        "\n",
        "@interact(w=widgets.FloatSlider(min=0, max=5, step=0.05, value=0.5))\n",
        "def plot_sigmoid_on_data_fixed_b(w):\n",
        "    fig, axes = plt.subplots(1, 2, figsize=(10, 4))\n",
        "\n",
        "    # Left subplot: sigmoid classifier\n",
        "    ax1 = axes[0]\n",
        "    z_train = w * X_train + b\n",
        "    sigmoid_train = sigmoid(z_train)\n",
        "    y_pred_train = (sigmoid_train > 0.5).astype(int)\n",
        "    acc_train = accuracy(y_train, y_pred_train)\n",
        "    log_likelihood_train = -cross_entropy_loss(y_train, w, b, X_train)\n",
        "\n",
        "    z_test = w * X_test + b\n",
        "    sigmoid_test = sigmoid(z_test)\n",
        "    y_pred_test = (sigmoid_test > 0.5).astype(int)\n",
        "    acc_test = accuracy(y_test, y_pred_test)\n",
        "    log_likelihood_test = -cross_entropy_loss(y_test, w, b, X_test)\n",
        "\n",
        "    x_vals = np.linspace(0, 12, 100)\n",
        "    z_vals = w * x_vals + b\n",
        "    sigmoid_vals = sigmoid(z_vals)\n",
        "\n",
        "    ax1.axhline(0.5, color='gray', linestyle='--')\n",
        "    ax1.axvline(-b/w if w != 0 else 0, color='gray', linestyle='--')\n",
        "    ax1.plot(x_vals, sigmoid_vals, color='b')\n",
        "    np.random.seed(0)\n",
        "    ax1.plot(\n",
        "        X_train_reach1,\n",
        "        np.random.normal(0, 0.02, size=y_train_reach1.shape),\n",
        "        'r.',\n",
        "        label=f'{angles[reach_idx1]}° reach',\n",
        "    )\n",
        "    ax1.plot(\n",
        "        X_train_reach2,\n",
        "        1.0 + np.random.normal(0, 0.02, size=y_train_reach2.shape),\n",
        "        'b.',\n",
        "        label=f'{angles[reach_idx2]}° reach',\n",
        "    )\n",
        "    ax1.set_xlabel(f'Spike Count, Neuron {neuron_idx}')\n",
        "    ax1.set_ylabel(f'Probability of Reach {angles[reach_idx2]}°')\n",
        "    ax1.set_title(f\"w={w:.2f}, b={b:.1f}; Train acc: {acc_train:.3f}, Train LL: {log_likelihood_train:.3f}, Test acc: {acc_test:.3f}, Test LL: {log_likelihood_test:.3f}\")\n",
        "    ax1.legend(loc='upper left', bbox_to_anchor=(1, 1), frameon=False)\n",
        "\n",
        "    # Right subplot: cross-entropy loss curve\n",
        "    ax2 = axes[1]\n",
        "    ax2.plot(w_vals, losses, color='purple')\n",
        "    # Plot current cross-entropy as a red dot\n",
        "    current_loss = cross_entropy_loss(y_train, w, b, X_train)\n",
        "    ax2.plot(w, current_loss, 'ro', label='Current loss')\n",
        "    ax2.set_xlabel('Weight (w)')\n",
        "    ax2.set_ylabel('Cross-Entropy Loss')\n",
        "    ax2.set_title(f'Training loss vs. Weight (b={b:.1f})')\n",
        "    ax2.legend()\n",
        "\n",
        "    plt.tight_layout()\n",
        "    plt.show()"
      ]
    },
    {
      "cell_type": "markdown",
      "id": "8c4adebd",
      "metadata": {
        "id": "8c4adebd"
      },
      "source": [
        "#### Automatically finding the optimal parameters with gradient descent\n",
        "\n",
        "We're now ready to define an algorithm to find the optimal parameters $w$ and $b$\n",
        "that minimize the loss function.\n",
        "\n",
        "We will use the gradient descent algorithm, which iteratively updates the parameters\n",
        "using the gradient of the loss function with respect to those parameters.\n",
        "\n",
        "Intuitively, the (negative) gradient points \"downhill\", indicating the direction in\n",
        "which the loss function decreases most rapidly."
      ]
    },
    {
      "cell_type": "code",
      "execution_count": null,
      "id": "bc28c4d0",
      "metadata": {
        "id": "bc28c4d0"
      },
      "outputs": [],
      "source": [
        "b = -3.5  # Fixed bias term\n",
        "w_vals = np.linspace(0, 5, 100)\n",
        "losses = [cross_entropy_loss(y_train, w, b, X_train) for w in w_vals]\n",
        "w_vals_grad = np.linspace(0, 5, 15)\n",
        "gradients = [X_train.T @ (sigmoid(X_train * w + b) - y_train) / len(y_train) for w in w_vals_grad]\n",
        "\n",
        "# Now plot the loss function and overlay its gradients with respect to w at each point\n",
        "plt.figure(figsize=(6, 5))\n",
        "plt.plot(w_vals, losses, color='purple')\n",
        "# Plot the gradients as horizontal arrows along the x-axis\n",
        "for i in range(len(w_vals_grad)):\n",
        "    # Start at the current weight value, draw a horizontal arrow in the direction of the gradient\n",
        "    plt.arrow(w_vals_grad[i], 0, -gradients[i] * 0.1, 0, head_width=0.03, head_length=0.05, fc='r', ec='r')\n",
        "plt.xlabel('Weight (w)')\n",
        "plt.ylabel('Cross-Entropy Loss')\n",
        "plt.title(f'Training loss vs. Weight (b={b:.1f}) with Gradients')\n",
        "plt.tight_layout()\n",
        "plt.show()"
      ]
    },
    {
      "cell_type": "markdown",
      "id": "e6dfecb3",
      "metadata": {
        "id": "e6dfecb3"
      },
      "source": [
        "The derivations for the gradient of the loss function with respect to the parameters $w$\n",
        "and $b$ require fairly involved algebra and applications of the chain rule in calculus.\n",
        "\n",
        "We therefore take the following expressions for granted. In the 1D case:\n",
        "- The derivative or gradient of the loss function with respect to $w$\n",
        "  is given by:\n",
        "  $$\\frac{\\partial L}{\\partial w} = \\frac{\\partial}{\\partial w} \\left( -\\frac{1}{n} \\sum_{i=1}^{n} \\left[ y_i \\log\\left(\\sigma(w x_i + b)\\right) + (1 - y_i) \\log\\left(1 - \\sigma(w x_i + b)\\right) \\right] \\right)$$\n",
        "  $$= -\\frac{1}{n} \\sum_{i=1}^{n} \\left[ y_i - \\sigma(w x_i + b) \\right] \\cdot x_i$$\n",
        "- The derivative or gradient of the loss function with respect to $b$\n",
        "  is given by:\n",
        "  $$\\frac{\\partial L}{\\partial b} = \\frac{\\partial}{\\partial b} \\left( -\\frac{1}{n} \\sum_{i=1}^{n} \\left[ y_i \\log\\left(\\sigma(w x_i + b)\\right) + (1 - y_i) \\log\\left(1 - \\sigma(w x_i + b)\\right) \\right] \\right)$$\n",
        "  $$= -\\frac{1}{n} \\sum_{i=1}^{n} \\left[ y_i - \\sigma(w x_i + b) \\right]$$\n",
        "\n",
        "Pseudo-code for the gradient descent algorithm is then as follows:\n",
        "```\n",
        ">>> given learning rate α, and number of iterations num_iter\n",
        ">>> initialize w, b\n",
        ">>> for num_iters:\n",
        ">>>    compute: dL/dw\n",
        ">>>    compute: dL/db\n",
        ">>>    update: w = w - α ⋅ dL/dw\n",
        ">>>    update: b = b - α ⋅ dL/db\n",
        ">>> return w, b\n",
        "```"
      ]
    },
    {
      "cell_type": "markdown",
      "id": "96586423",
      "metadata": {
        "id": "96586423"
      },
      "source": [
        "#### Putting it all together: the logistic regression classifier\n",
        "\n",
        "We now have all the tools we need to implement a logistic regression classifier.\n",
        "We will create a class that implements the logistic regression algorithm, with a\n",
        "similar structure to the KNN class we created earlier.\n",
        "\n",
        "**_📝 Exercise_**\n",
        "\n",
        "In the code below, implement the gradient descent steps for the weight $w$ and the bias $b$.\n",
        "\n",
        "Wherever you see a `TODO` (there are **two**), attempt to fill in that line of code.\n",
        "\n",
        "You can find the solution below."
      ]
    },
    {
      "cell_type": "code",
      "execution_count": null,
      "id": "S0XmWlPT4C57",
      "metadata": {
        "id": "S0XmWlPT4C57"
      },
      "outputs": [],
      "source": [
        "class LogisticRegression:\n",
        "    def __init__(self, lr: float = 0.001, num_iter: int = 1000):\n",
        "        \"\"\"\n",
        "        Initialize the logistic regression model.\n",
        "\n",
        "        Parameters\n",
        "        ----------\n",
        "        lr : float\n",
        "            Learning rate for gradient descent. Defaults to 0.001.\n",
        "        num_iter : int\n",
        "            Number of iterations for gradient descent. Defaults to 1000.\n",
        "        \"\"\"\n",
        "        self.lr = lr\n",
        "        self.num_iter = num_iter\n",
        "        self.weights = None\n",
        "        self.bias = None\n",
        "        self.loss = cross_entropy_loss\n",
        "\n",
        "    def fit(self, X: np.ndarray, y: np.ndarray):\n",
        "        \"\"\"\n",
        "        Fit the logistic regression model to the training data.\n",
        "\n",
        "        Parameters\n",
        "        ----------\n",
        "        X : numpy array, shape (n, d)\n",
        "            Input data, where n is the number of samples and d is the number of\n",
        "            features.\n",
        "        y : numpy array, shape (n,)\n",
        "            Target labels (0 or 1) for each sample.\n",
        "\n",
        "        Returns\n",
        "        -------\n",
        "        loss_history : list\n",
        "            List of cross-entropy loss values at each iteration.\n",
        "        weight_history : list of numpy arrays\n",
        "            List of weight vectors at each iteration.\n",
        "        bias_history : list\n",
        "            List of bias values at each iteration.\n",
        "        \"\"\"\n",
        "        # Check if X is a 1D array and reshape it to 2D if necessary\n",
        "        if len(X.shape) == 1:\n",
        "            X = X.reshape(-1, 1)\n",
        "        n, d = X.shape\n",
        "\n",
        "        # Initialize weights and bias to zeros\n",
        "        self.weights = np.zeros(d)\n",
        "        self.bias = 0\n",
        "        # Initialize lists to store the history of weights, bias, and loss\n",
        "        loss_history = []\n",
        "        weight_history = []\n",
        "        bias_history = []\n",
        "\n",
        "        # Main training loop that performs gradient descent\n",
        "        for _ in range(self.num_iter):\n",
        "            # Compute the class probabilities for each data point\n",
        "            logits = X @ self.weights + self.bias\n",
        "            class_probs = sigmoid(logits)\n",
        "            # Compute the cross-entropy loss\n",
        "            loss = self.loss(y, self.weights, self.bias, X)\n",
        "            loss_history.append(loss)\n",
        "\n",
        "            # Compute the gradient of the loss function with respect to weights and bias\n",
        "            dw = (1 / n) * X.T @ (class_probs - y)\n",
        "            db = (1 / n) * np.sum(class_probs - y)\n",
        "\n",
        "            # Perform a gradient descent step\n",
        "            self.weights = None  # TODO: Replace None. Use self.lr and dw\n",
        "            self.bias = None     # TODO: Replace None. Use self.lr and db\n",
        "\n",
        "            # Update the history of weights and bias\n",
        "            weight_history.append(self.weights.copy())\n",
        "            bias_history.append(self.bias)\n",
        "\n",
        "        return loss_history, weight_history, bias_history\n",
        "\n",
        "    def predict(self, X):\n",
        "        \"\"\"\n",
        "        Predict the class labels for the input data using the fitted model.\n",
        "\n",
        "        Parameters\n",
        "        ----------\n",
        "        X : numpy array, shape (n, d)\n",
        "            Input data, where n is the number of samples and d is the number of\n",
        "            features.\n",
        "\n",
        "        Returns\n",
        "        -------\n",
        "        class_pred : list\n",
        "            List of predicted class labels (0 or 1) for each sample.\n",
        "        \"\"\"\n",
        "        # Check if X is a 1D array and reshape it to 2D if necessary\n",
        "        if len(X.shape) == 1:\n",
        "            X = X.reshape(-1, 1)\n",
        "        # Compute the class probabilities\n",
        "        logits = X @ self.weights + self.bias\n",
        "        class_probs = sigmoid(logits)\n",
        "        # Convert probabilities to class predictions\n",
        "        class_pred = [0 if class_prob <= 0.5 else 1 for class_prob in class_probs]\n",
        "        return class_pred"
      ]
    },
    {
      "cell_type": "code",
      "execution_count": null,
      "id": "00d323a3",
      "metadata": {
        "id": "00d323a3"
      },
      "outputs": [],
      "source": [
        "#@title Double click to see solution {display-mode: \"form\" }\n",
        "class LogisticRegression:\n",
        "    def __init__(self, lr: float = 0.001, num_iter: int = 1000):\n",
        "        \"\"\"\n",
        "        Initialize the logistic regression model.\n",
        "\n",
        "        Parameters\n",
        "        ----------\n",
        "        lr : float\n",
        "            Learning rate for gradient descent. Defaults to 0.001.\n",
        "        num_iter : int\n",
        "            Number of iterations for gradient descent. Defaults to 1000.\n",
        "        \"\"\"\n",
        "        self.lr = lr\n",
        "        self.num_iter = num_iter\n",
        "        self.weights = None\n",
        "        self.bias = None\n",
        "        self.loss = cross_entropy_loss\n",
        "\n",
        "    def fit(self, X: np.ndarray, y: np.ndarray):\n",
        "        \"\"\"\n",
        "        Fit the logistic regression model to the training data.\n",
        "\n",
        "        Parameters\n",
        "        ----------\n",
        "        X : numpy array, shape (n, d)\n",
        "            Input data, where n is the number of samples and d is the number of\n",
        "            features.\n",
        "        y : numpy array, shape (n,)\n",
        "            Target labels (0 or 1) for each sample.\n",
        "\n",
        "        Returns\n",
        "        -------\n",
        "        loss_history : list\n",
        "            List of cross-entropy loss values at each iteration.\n",
        "        weight_history : list of numpy arrays\n",
        "            List of weight vectors at each iteration.\n",
        "        bias_history : list\n",
        "            List of bias values at each iteration.\n",
        "        \"\"\"\n",
        "        # Check if X is a 1D array and reshape it to 2D if necessary\n",
        "        if len(X.shape) == 1:\n",
        "            X = X.reshape(-1, 1)\n",
        "        n, d = X.shape\n",
        "\n",
        "        # Initialize weights and bias to zeros\n",
        "        self.weights = np.zeros(d)\n",
        "        self.bias = 0\n",
        "        # Initialize lists to store the history of weights, bias, and loss\n",
        "        loss_history = []\n",
        "        weight_history = []\n",
        "        bias_history = []\n",
        "\n",
        "        # Main training loop that performs gradient descent\n",
        "        for _ in range(self.num_iter):\n",
        "            # Compute the class probabilities for each data point\n",
        "            logits = X @ self.weights + self.bias\n",
        "            class_probs = sigmoid(logits)\n",
        "            # Compute the cross-entropy loss\n",
        "            loss = self.loss(y, self.weights, self.bias, X)\n",
        "            loss_history.append(loss)\n",
        "\n",
        "            # Compute the gradient of the loss function with respect to weights and bias\n",
        "            dw = (1 / n) * X.T @ (class_probs - y)\n",
        "            db = (1 / n) * np.sum(class_probs - y)\n",
        "\n",
        "            # Perform a gradient descent step\n",
        "            self.weights -= self.lr * dw  # SOLUTION\n",
        "            self.bias -= self.lr * db     # SOLUTION\n",
        "\n",
        "            # Update the history of weights and bias\n",
        "            weight_history.append(self.weights.copy())\n",
        "            bias_history.append(self.bias)\n",
        "\n",
        "        return loss_history, weight_history, bias_history\n",
        "\n",
        "    def predict(self, X):\n",
        "        \"\"\"\n",
        "        Predict the class labels for the input data using the fitted model.\n",
        "\n",
        "        Parameters\n",
        "        ----------\n",
        "        X : numpy array, shape (n, d)\n",
        "            Input data, where n is the number of samples and d is the number of\n",
        "            features.\n",
        "\n",
        "        Returns\n",
        "        -------\n",
        "        class_pred : list\n",
        "            List of predicted class labels (0 or 1) for each sample.\n",
        "        \"\"\"\n",
        "        # Check if X is a 1D array and reshape it to 2D if necessary\n",
        "        if len(X.shape) == 1:\n",
        "            X = X.reshape(-1, 1)\n",
        "        # Compute the class probabilities\n",
        "        logits = X @ self.weights + self.bias\n",
        "        class_probs = sigmoid(logits)\n",
        "        # Convert probabilities to class predictions\n",
        "        class_pred = [0 if class_prob <= 0.5 else 1 for class_prob in class_probs]\n",
        "        return class_pred"
      ]
    },
    {
      "cell_type": "markdown",
      "id": "ngLfNKzC1zCi",
      "metadata": {
        "id": "ngLfNKzC1zCi"
      },
      "source": [
        "Now let's create a LogisticRegression instance and fit it to our training data."
      ]
    },
    {
      "cell_type": "code",
      "execution_count": null,
      "id": "e8b4e12e",
      "metadata": {
        "id": "e8b4e12e"
      },
      "outputs": [],
      "source": [
        "log_reg = LogisticRegression(lr=0.1, num_iter=1000)\n",
        "loss_history, weight_history, bias_history = log_reg.fit(X_train, y_train)\n",
        "# Let's predict the labels for the training and test data\n",
        "y_pred_train = log_reg.predict(X_train)\n",
        "y_pred_test = log_reg.predict(X_test)\n",
        "# Compute the accuracy for the training and test data\n",
        "acc_train = accuracy(y_train, y_pred_train)\n",
        "acc_test = accuracy(y_test, y_pred_test)\n",
        "# Print the learned weights and bias\n",
        "print(f'Learned Weights: {log_reg.weights}')\n",
        "print(f'Learned Bias: {log_reg.bias}')\n",
        "# Print the accuracies\n",
        "print(f'Train Accuracy: {acc_train:.3f}')\n",
        "print(f'Test Accuracy: {acc_test:.3f}')\n",
        "\n",
        "# Plot the loss history, and weight and bias evolutions\n",
        "plt.figure(figsize=(12, 3))\n",
        "# make sure subplots don't overlap\n",
        "plt.subplots_adjust(wspace=0.3)\n",
        "plt.subplot(1, 3, 1)\n",
        "plt.plot(loss_history, color='purple')\n",
        "plt.xlabel('Training Iteration')\n",
        "plt.ylabel('Training Loss')\n",
        "plt.title('Loss History during Training')\n",
        "\n",
        "plt.subplot(1, 3, 2)\n",
        "plt.plot(weight_history, color='blue')\n",
        "plt.xlabel('Training Iteration')\n",
        "plt.ylabel('Weight')\n",
        "plt.title('Weights Evolution during Training')\n",
        "\n",
        "plt.subplot(1, 3, 3)\n",
        "plt.plot(bias_history, color='green')\n",
        "plt.xlabel('Training Iteration')\n",
        "plt.ylabel('Bias')\n",
        "plt.title('Bias Evolution during Training')\n",
        "plt.show()"
      ]
    },
    {
      "cell_type": "markdown",
      "id": "0fd765e9",
      "metadata": {
        "id": "0fd765e9"
      },
      "source": [
        "**_💬 Discussion questions:_**\n",
        "\n",
        "1. How do the parameters learned by this logistic regression classifier compare to the parameters you found earlier by hand?\n",
        "2. How does the performance of this classifier compare to the KNN classifier?"
      ]
    },
    {
      "cell_type": "code",
      "execution_count": null,
      "id": "3bc8a670",
      "metadata": {
        "id": "3bc8a670"
      },
      "outputs": [],
      "source": [
        "#@title Bonus: Animate the learning process! {display-mode: \"form\" }\n",
        "from matplotlib.animation import FuncAnimation\n",
        "def animate_logistic_sigmoid(i):\n",
        "    plt.clf()  # Clear the current figure\n",
        "    w = weight_history[i]\n",
        "    b = bias_history[i]\n",
        "\n",
        "    # Compute the sigmoid function for a range of x values\n",
        "    x_vals = np.linspace(0, 12, 100)\n",
        "    z_vals = w * x_vals + b\n",
        "    sigmoid_vals = sigmoid(z_vals)\n",
        "\n",
        "    # Plot the sigmoid function for the training data\n",
        "    plt.axhline(0.5, color='gray', linestyle='--')\n",
        "    # Plot the vertical line where the sigmoid crosses 0.5\n",
        "    plt.axvline(-b/w if w != 0 else 0, color='gray', linestyle='--')\n",
        "    plt.plot(x_vals, sigmoid_vals, color='b')\n",
        "\n",
        "    # Replot the training data\n",
        "    np.random.seed(0)\n",
        "    plt.plot(\n",
        "        X_train_reach1,\n",
        "        np.random.normal(0, 0.02, size=y_train_reach1.shape),\n",
        "        'r.',\n",
        "        label=f'{angles[reach_idx1]}° reach',\n",
        "    )\n",
        "    plt.plot(\n",
        "        X_train_reach2,\n",
        "        1.0 + np.random.normal(0, 0.02, size=y_train_reach2.shape),\n",
        "        'b.',\n",
        "        label=f'{angles[reach_idx2]}° reach',\n",
        "    )\n",
        "\n",
        "    # Final plot formatting\n",
        "    plt.xlabel(f'Spike Count, Neuron {neuron_idx}')\n",
        "    plt.ylabel(f'Probability of Reach {angles[reach_idx2]}°')\n",
        "    plt.legend(loc='upper left', bbox_to_anchor=(1, 1), frameon=False)\n",
        "    plt.tight_layout()\n",
        "\n",
        "fig = plt.figure(figsize=(8, 5))\n",
        "ani = FuncAnimation(\n",
        "    fig, animate_logistic_sigmoid, frames=len(weight_history), interval=10, repeat=False\n",
        ")\n",
        "# Save the animation as a video file\n",
        "# ani.save('logistic_regression_animation1D.gif', writer='ffmpeg', fps=100)"
      ]
    },
    {
      "cell_type": "markdown",
      "id": "7d394ea4",
      "metadata": {
        "id": "7d394ea4"
      },
      "source": [
        "#### We can just as well apply our logistic regression model to the 2D data"
      ]
    },
    {
      "cell_type": "code",
      "execution_count": null,
      "id": "483b78d3",
      "metadata": {
        "id": "483b78d3"
      },
      "outputs": [],
      "source": [
        "#@title Back to our 2D data {display-mode: \"form\" }\n",
        "neuron_idxs = [91, 34]  # The neurons we'll use for binary classification\n",
        "reach_idx1 = 0  # First reach angle\n",
        "reach_idx2 = 3  # Second reach angle\n",
        "\n",
        "# Extract the data for the two angles\n",
        "X_reach1 = Xplan_angles[reach_idx1, :, neuron_idxs].T\n",
        "X_reach2 = Xplan_angles[reach_idx2, :, neuron_idxs].T\n",
        "\n",
        "# Let's create a label vector for the two angles\n",
        "y_reach1 = np.zeros(X_reach1.shape[0])  # Label for the first angle\n",
        "y_reach2 = np.ones(X_reach2.shape[0])   # Label for the second angle\n",
        "\n",
        "# Let's also randomly split the data into training and test sets.\n",
        "# We'll keep the same number of trials for each angle.\n",
        "n_train = int(0.8 * num_reaches_per_angle)  # 80% for training\n",
        "# Seed the random number generator for reproducibility\n",
        "np.random.seed(2)\n",
        "train_idxs = np.random.choice(num_reaches_per_angle, n_train, replace=False)\n",
        "# This function just returns the indices that are not already in the training set\n",
        "test_idxs = np.setdiff1d(np.arange(num_reaches_per_angle), train_idxs)\n",
        "\n",
        "# Train data\n",
        "X_train_reach1 = X_reach1[train_idxs]\n",
        "X_train_reach2 = X_reach2[train_idxs]\n",
        "y_train_reach1 = y_reach1[train_idxs]\n",
        "y_train_reach2 = y_reach2[train_idxs]\n",
        "X_train = np.concatenate((X_train_reach1, X_train_reach2))\n",
        "y_train = np.concatenate((y_train_reach1, y_train_reach2))\n",
        "\n",
        "# Test data\n",
        "X_test_reach1 = X_reach1[test_idxs]\n",
        "X_test_reach2 = X_reach2[test_idxs]\n",
        "y_test_reach1 = y_reach1[test_idxs]\n",
        "y_test_reach2 = y_reach2[test_idxs]\n",
        "X_test = np.concatenate((X_test_reach1, X_test_reach2))\n",
        "y_test = np.concatenate((y_test_reach1, y_test_reach2))"
      ]
    },
    {
      "cell_type": "markdown",
      "id": "varDntbL5txA",
      "metadata": {
        "id": "varDntbL5txA"
      },
      "source": [
        "Create a LogisticRegression instance and fit it to our training data"
      ]
    },
    {
      "cell_type": "code",
      "execution_count": null,
      "id": "4f6f65b9",
      "metadata": {
        "id": "4f6f65b9"
      },
      "outputs": [],
      "source": [
        "log_reg = LogisticRegression(lr=0.1, num_iter=2000)\n",
        "loss_history, weight_history, bias_history = log_reg.fit(X_train, y_train)\n",
        "# Let's predict the labels for the training and test data\n",
        "y_pred_train = log_reg.predict(X_train)\n",
        "y_pred_test = log_reg.predict(X_test)\n",
        "# Compute the accuracy for the training and test data\n",
        "acc_train = accuracy(y_train, y_pred_train)\n",
        "acc_test = accuracy(y_test, y_pred_test)\n",
        "# Print the learned weights and bias\n",
        "print(f'Learned Weights: {log_reg.weights}')\n",
        "print(f'Learned Bias: {log_reg.bias}')\n",
        "# Print the accuracies\n",
        "print(f'Train Accuracy: {acc_train:.3f}')\n",
        "print(f'Test Accuracy: {acc_test:.3f}')\n",
        "\n",
        "# Plot the loss history, and weight and bias evolutions\n",
        "plt.figure(figsize=(12, 3))\n",
        "# make sure subplots don't overlap\n",
        "plt.subplots_adjust(wspace=0.3)\n",
        "plt.subplot(1, 3, 1)\n",
        "plt.plot(loss_history, color='purple')\n",
        "plt.xlabel('Training Iteration')\n",
        "plt.ylabel('Training Loss')\n",
        "plt.title('Loss History during Training')\n",
        "\n",
        "plt.subplot(1, 3, 2)\n",
        "plt.plot(weight_history)\n",
        "plt.xlabel('Training Iteration')\n",
        "plt.ylabel('Weight')\n",
        "plt.title('Weights Evolution during Training')\n",
        "\n",
        "plt.subplot(1, 3, 3)\n",
        "plt.plot(bias_history, color='green')\n",
        "plt.xlabel('Training Iteration')\n",
        "plt.ylabel('Bias')\n",
        "plt.title('Bias Evolution during Training')\n",
        "plt.show()"
      ]
    },
    {
      "cell_type": "markdown",
      "id": "a37a84d1",
      "metadata": {
        "id": "a37a84d1"
      },
      "source": [
        "**_💬 Discussion questions:_**\n",
        "\n",
        "1. How do the parameters learned by this logistic regression classifier compare to the\n",
        "   parameters you found earlier by hand?\n",
        "2. How does the performance of this classifier compare to the KNN classifier?"
      ]
    },
    {
      "cell_type": "markdown",
      "id": "f7bfc704",
      "metadata": {
        "id": "f7bfc704"
      },
      "source": [
        "**_📝 Exercises_**\n",
        "\n",
        "1. Rerun the 2D logistic regression problem, but try different values for the learning rate and number of iterations. How does the performance of the classifier change?\n",
        "2. Rerun the above analyses, but try different pairs of reach angles to classify. Which pairs result in the best classification performance, and why? Which pairs result in the the worst classification performance, and why?"
      ]
    },
    {
      "cell_type": "code",
      "execution_count": null,
      "id": "7f479293",
      "metadata": {
        "id": "7f479293"
      },
      "outputs": [],
      "source": [
        "#@title Bonus: Animate the learning process! {display-mode: \"form\" }\n",
        "def animate_logistic_sigmoid_2d(i):\n",
        "    plt.clf()  # Clear the current figure\n",
        "    w1, w2 = weight_history[i]\n",
        "    b = bias_history[i]\n",
        "\n",
        "    # Plot the heat map based on the logistic sigmoid function in 2D\n",
        "    x_vals = np.linspace(X_train[:, 0].min()-1, X_train[:, 0].max()+1, 100)\n",
        "    y_vals = np.linspace(X_train[:, 1].min()-1, X_train[:, 1].max()+1, 100)\n",
        "    xx, yy = np.meshgrid(x_vals, y_vals)\n",
        "    z_vals = w1 * xx + w2 * yy + b\n",
        "    sigmoid_vals = sigmoid(z_vals)\n",
        "\n",
        "    # Plot grid and associated sigmoid values\n",
        "    plt.pcolormesh(xx, yy, sigmoid_vals, shading='auto', cmap='coolwarm_r', alpha=0.8)\n",
        "    plt.colorbar(label='Probability of Class 1')\n",
        "    plt.clim(0, 1)\n",
        "\n",
        "    # Replot the training data\n",
        "    np.random.seed(0)\n",
        "    plt.plot(\n",
        "        X_train_reach1[:, 0] + np.random.normal(0, 0.05, size=X_train_reach1.shape[0]),\n",
        "        X_train_reach1[:, 1] + np.random.normal(0, 0.05, size=X_train_reach1.shape[0]),\n",
        "        'r.',\n",
        "        label=f'{angles[reach_idx1]}° reach',\n",
        "    )\n",
        "    plt.plot(\n",
        "        X_train_reach2[:, 0] + np.random.normal(0, 0.05, size=X_train_reach2.shape[0]),\n",
        "        X_train_reach2[:, 1] + np.random.normal(0, 0.05, size=X_train_reach2.shape[0]),\n",
        "        'b.',\n",
        "        label=f'{angles[reach_idx2]}° reach',\n",
        "    )\n",
        "\n",
        "    # Final plot formatting\n",
        "    plt.xlabel(f'Spike Count, Neuron {neuron_idxs[0]}')\n",
        "    plt.ylabel(f'Spike Count, Neuron {neuron_idxs[1]}')\n",
        "    plt.legend(loc='lower right', frameon=False)\n",
        "    plt.tight_layout()\n",
        "\n",
        "fig = plt.figure(figsize=(8, 5))\n",
        "ani = FuncAnimation(fig, animate_logistic_sigmoid_2d, frames=len(weight_history), interval=20, repeat=False)\n",
        "# Save the animation as a video file\n",
        "# ani.save('logistic_regression_animation2D.mp4', writer='ffmpeg', fps=50)"
      ]
    },
    {
      "cell_type": "markdown",
      "id": "91b17a21",
      "metadata": {
        "id": "91b17a21"
      },
      "source": [
        "## Bonus topics"
      ]
    },
    {
      "cell_type": "markdown",
      "id": "181e806a",
      "metadata": {
        "id": "181e806a"
      },
      "source": [
        "### Population decoding <a name=\"population-decoding\"></a>\n",
        "\n",
        "We have seen how to decode the reach angle from the activity of a single neuron, or\n",
        "from the activity of two neurons. But what if we have many more neurons? How do we\n",
        "decode the reach angle from the activity of a population of neurons?\n",
        "\n",
        "It turns out that we have all the tools we need to do this, with either the KNN\n",
        "classifier or the logistic regression classifier."
      ]
    },
    {
      "cell_type": "code",
      "execution_count": null,
      "id": "f986a078",
      "metadata": {
        "id": "f986a078"
      },
      "outputs": [],
      "source": [
        "# Prepare the data. This time, we'll use all of the neurons in our recording!\n",
        "reach_idx1 = 0  # First reach angle\n",
        "reach_idx2 = 3  # Second reach angle\n",
        "\n",
        "# Extract the data for the two angles\n",
        "X_reach1 = Xplan_angles[reach_idx1, :, :].T\n",
        "X_reach2 = Xplan_angles[reach_idx2, :, :].T\n",
        "\n",
        "# Let's create a label vector for the two angles\n",
        "y_reach1 = np.zeros(X_reach1.shape[0])  # Label for the first angle\n",
        "y_reach2 = np.ones(X_reach2.shape[0])   # Label for the second angle\n",
        "\n",
        "# Let's also randomly split the data into training and test sets.\n",
        "# We'll keep the same number of trials for each angle.\n",
        "n_train = int(0.8 * num_reaches_per_angle)  # 80% for training\n",
        "# Seed the random number generator for reproducibility\n",
        "np.random.seed(2)\n",
        "train_idxs = np.random.choice(num_reaches_per_angle, n_train, replace=False)\n",
        "# This function just returns the indices that are not already in the training set\n",
        "test_idxs = np.setdiff1d(np.arange(num_reaches_per_angle), train_idxs)\n",
        "\n",
        "# Train data\n",
        "X_train_reach1 = X_reach1[train_idxs]\n",
        "X_train_reach2 = X_reach2[train_idxs]\n",
        "y_train_reach1 = y_reach1[train_idxs]\n",
        "y_train_reach2 = y_reach2[train_idxs]\n",
        "X_train = np.concatenate((X_train_reach1, X_train_reach2))\n",
        "y_train = np.concatenate((y_train_reach1, y_train_reach2))\n",
        "\n",
        "# Test data\n",
        "X_test_reach1 = X_reach1[test_idxs]\n",
        "X_test_reach2 = X_reach2[test_idxs]\n",
        "y_test_reach1 = y_reach1[test_idxs]\n",
        "y_test_reach2 = y_reach2[test_idxs]\n",
        "X_test = np.concatenate((X_test_reach1, X_test_reach2))\n",
        "y_test = np.concatenate((y_test_reach1, y_test_reach2))"
      ]
    },
    {
      "cell_type": "markdown",
      "id": "e9052bfe",
      "metadata": {
        "id": "e9052bfe"
      },
      "source": [
        "Population decoding with logistic regression"
      ]
    },
    {
      "cell_type": "code",
      "execution_count": null,
      "id": "7cea0fab",
      "metadata": {
        "id": "7cea0fab"
      },
      "outputs": [],
      "source": [
        "# Create a LogisticRegression instance and fit it to our training data\n",
        "log_reg = LogisticRegression(lr=0.1, num_iter=1000)\n",
        "loss_history, weight_history, bias_history = log_reg.fit(X_train, y_train)\n",
        "# Let's predict the labels for the training and test data\n",
        "y_pred_train = log_reg.predict(X_train)\n",
        "y_pred_test = log_reg.predict(X_test)\n",
        "# Compute the accuracy for the training and test data\n",
        "acc_train = accuracy(y_train, y_pred_train)\n",
        "acc_test = accuracy(y_test, y_pred_test)\n",
        "# Print the accuracies\n",
        "print(f'Train Accuracy: {acc_train:.3f}')\n",
        "print(f'Test Accuracy: {acc_test:.3f}')\n",
        "\n",
        "# Plot the loss history, and weight and bias evolutions\n",
        "plt.figure(figsize=(12, 3))\n",
        "# make sure subplots don't overlap\n",
        "plt.subplots_adjust(wspace=0.3)\n",
        "plt.subplot(1, 3, 1)\n",
        "plt.plot(loss_history, color='purple')\n",
        "plt.xlabel('Training Iteration')\n",
        "plt.ylabel('Training Loss')\n",
        "plt.title('Loss History during Training')\n",
        "\n",
        "plt.subplot(1, 3, 2)\n",
        "plt.plot(weight_history, color='blue')\n",
        "plt.xlabel('Training Iteration')\n",
        "plt.ylabel('Weight')\n",
        "plt.title('Weights Evolution during Training')\n",
        "\n",
        "plt.subplot(1, 3, 3)\n",
        "plt.plot(bias_history, color='green')\n",
        "plt.xlabel('Training Iteration')\n",
        "plt.ylabel('Bias')\n",
        "plt.title('Bias Evolution during Training')\n",
        "plt.show()"
      ]
    },
    {
      "cell_type": "markdown",
      "id": "c916b6c9",
      "metadata": {
        "id": "c916b6c9"
      },
      "source": [
        "Population decoding with Nearest Neighbors"
      ]
    },
    {
      "cell_type": "code",
      "execution_count": null,
      "id": "8c372431",
      "metadata": {
        "id": "8c372431"
      },
      "outputs": [],
      "source": [
        "knn_ND = KNNBase(k=20)\n",
        "knn_ND.distance = euclidean_distance\n",
        "\n",
        "# Fit the KNN model\n",
        "knn_ND.fit(X_train, y_train)\n",
        "\n",
        "# Predict the labels for the train data\n",
        "y_pred_train = knn_ND.predict_batch(X_train)\n",
        "\n",
        "# Predict the labels for the test data\n",
        "y_pred_test = knn_ND.predict_batch(X_test)\n",
        "\n",
        "# Train accuracy\n",
        "acc_train = accuracy(y_train, y_pred_train)\n",
        "print(f'Train accuracy: {acc_train:.3f}')\n",
        "\n",
        "# Test accuracy\n",
        "acc_test = accuracy(y_test, y_pred_test)\n",
        "print(f'Test accuracy: {acc_test:.3f}')"
      ]
    },
    {
      "cell_type": "markdown",
      "id": "8649c5d2",
      "metadata": {
        "id": "8649c5d2"
      },
      "source": [
        "**_📝 Exercises_**\n",
        "\n",
        "1. Rerun the above analyses, but try different pairs of reach angles to classify.\n",
        "2. Across the pairs, try different settings for the KNN and Logistic Regression classifiers. How do the results change? Which classifier performs better? Is that surprising? Why might one classifier be consistently performing better than the other?"
      ]
    },
    {
      "cell_type": "markdown",
      "id": "8ad27e8b",
      "metadata": {
        "id": "8ad27e8b"
      },
      "source": [
        "### Combining classification and PCA <a name=\"class-pca\"></a>\n",
        "\n",
        "We can combine classification and PCA as follows:\n",
        "1. First, we apply PCA to the neural data to reduce its dimensionality.\n",
        "2. Then, we use the reduced-dimensionality data as input to a classification algorithm,\n",
        "   such as KNN or logistic regression."
      ]
    },
    {
      "cell_type": "code",
      "execution_count": null,
      "id": "763af4cc",
      "metadata": {
        "id": "763af4cc"
      },
      "outputs": [],
      "source": [
        "# Prepare the data. This time, we'll use all of the neurons in our recording!\n",
        "reach_idx1 = 0  # First reach angle\n",
        "reach_idx2 = 3  # Second reach angle\n",
        "\n",
        "# Extract the data for the two angles\n",
        "X_reach1 = Xplan_angles[reach_idx1, :, :].T\n",
        "X_reach2 = Xplan_angles[reach_idx2, :, :].T\n",
        "\n",
        "# Let's create a label vector for the two angles\n",
        "y_reach1 = np.zeros(X_reach1.shape[0])  # Label for the first angle\n",
        "y_reach2 = np.ones(X_reach2.shape[0])   # Label for the second angle\n",
        "\n",
        "# Let's also randomly split the data into training and test sets.\n",
        "# We'll keep the same number of trials for each angle.\n",
        "n_train = int(0.8 * num_reaches_per_angle)  # 80% for training\n",
        "# Seed the random number generator for reproducibility\n",
        "np.random.seed(2)\n",
        "train_idxs = np.random.choice(num_reaches_per_angle, n_train, replace=False)\n",
        "# This function just returns the indices that are not already in the training set\n",
        "test_idxs = np.setdiff1d(np.arange(num_reaches_per_angle), train_idxs)\n",
        "\n",
        "# Train data\n",
        "X_train_reach1 = X_reach1[train_idxs]\n",
        "X_train_reach2 = X_reach2[train_idxs]\n",
        "y_train_reach1 = y_reach1[train_idxs]\n",
        "y_train_reach2 = y_reach2[train_idxs]\n",
        "X_train = np.concatenate((X_train_reach1, X_train_reach2))\n",
        "y_train = np.concatenate((y_train_reach1, y_train_reach2))\n",
        "\n",
        "# Test data\n",
        "X_test_reach1 = X_reach1[test_idxs]\n",
        "X_test_reach2 = X_reach2[test_idxs]\n",
        "y_test_reach1 = y_reach1[test_idxs]\n",
        "y_test_reach2 = y_reach2[test_idxs]\n",
        "X_test = np.concatenate((X_test_reach1, X_test_reach2))\n",
        "y_test = np.concatenate((y_test_reach1, y_test_reach2))"
      ]
    },
    {
      "cell_type": "markdown",
      "id": "8b9aaf36",
      "metadata": {
        "id": "8b9aaf36"
      },
      "source": [
        "Apply PCA to these two reach angles and visualize 2D projections"
      ]
    },
    {
      "cell_type": "code",
      "execution_count": null,
      "id": "5f241768",
      "metadata": {
        "id": "5f241768"
      },
      "outputs": [],
      "source": [
        "# Apply PCA to these two reach angles and visualize the 2D projections\n",
        "\n",
        "# First find the mean over trials\n",
        "mu = np.mean(X_train, axis=0)\n",
        "\n",
        "# Now compute the data covariance\n",
        "X_train_centered = X_train - mu                      # Don't forget to center your data first!\n",
        "cov = (1/n) * X_train_centered.T @ X_train_centered  # Now you can compute the covariance\n",
        "\n",
        "# Perform eigendecomposition of the data covariance\n",
        "D, U = np.linalg.eig(cov)  # D = vector of eigenvalues, U = matrix of eigenvectors\n",
        "\n",
        "# Make sure the eigenvalues are sorted (in descending order)\n",
        "idx = np.argsort(D)[::-1]\n",
        "D    = D[idx]\n",
        "\n",
        "# Arrange the eigenvectors according to the magnitude of the eigenvalues\n",
        "U = U[:, idx]\n",
        "\n",
        "# Project the data onto the first two principal components\n",
        "X_train_pca = X_train_centered @ U[:, :2]\n",
        "\n",
        "# Visualize the PCA projection\n",
        "plt.figure(figsize=(8, 5))\n",
        "# Replot the training data\n",
        "# Spike counts are integer values, and so many data points will overlap.\n",
        "# Let's add an offset and a small amount of jitter to the y-axis, purely for\n",
        "# visualization purposes.\n",
        "# Seed the random number generator for reproducibility\n",
        "np.random.seed(0)\n",
        "plt.plot(\n",
        "    X_train_pca[y_train == 0, 0] + np.random.normal(0, 0.05, size=X_train_pca[y_train == 0].shape[0]),\n",
        "    X_train_pca[y_train == 0, 1] + np.random.normal(0, 0.05, size=X_train_pca[y_train == 0].shape[0]),\n",
        "    'r.',\n",
        "    label=f'{angles[reach_idx1]}° reach',\n",
        ")\n",
        "plt.plot(\n",
        "    X_train_pca[y_train == 1, 0] + np.random.normal(0, 0.05, size=X_train_pca[y_train == 1].shape[0]),\n",
        "    X_train_pca[y_train == 1, 1] + np.random.normal(0, 0.05, size=X_train_pca[y_train == 1].shape[0]),\n",
        "    'b.',\n",
        "    label=f'{angles[reach_idx2]}° reach',\n",
        ")\n",
        "plt.xlabel('PC1')\n",
        "plt.ylabel('PC2')\n",
        "plt.title(f'PCA Projection of Reach Angles {angles[reach_idx1]}° and {angles[reach_idx2]}°')\n",
        "plt.legend(loc='upper left', bbox_to_anchor=(1, 1), frameon=False)\n",
        "plt.tight_layout()\n",
        "plt.show()"
      ]
    },
    {
      "cell_type": "markdown",
      "id": "be41d35c",
      "metadata": {
        "id": "be41d35c"
      },
      "source": [
        "Classify the PCA projections with Logistic Regression"
      ]
    },
    {
      "cell_type": "code",
      "execution_count": null,
      "id": "99b8f296",
      "metadata": {
        "id": "99b8f296"
      },
      "outputs": [],
      "source": [
        "# Classify the PCA projections with Logistic Regression\n",
        "\n",
        "# Now let's create a LogisticRegression instance and fit it to our training data\n",
        "log_reg = LogisticRegression(lr=0.1, num_iter=1000)\n",
        "loss_history, weight_history, bias_history = log_reg.fit(X_train_pca, y_train)\n",
        "# Let's predict the labels for the training data\n",
        "y_pred_train = log_reg.predict(X_train_pca)\n",
        "# Compute the accuracy for the training data\n",
        "acc_train = accuracy(y_train, y_pred_train)\n",
        "# Print the accuracies\n",
        "print(f'Train Accuracy: {acc_train:.3f}')"
      ]
    },
    {
      "cell_type": "markdown",
      "id": "e5e926f7",
      "metadata": {
        "id": "e5e926f7"
      },
      "source": [
        "### Multiclass classification <a name=\"multiclass\"></a>\n",
        "\n",
        "The code we wrote for the KNN classifier is readily applicable to multiclass\n",
        "classification. We can simply extend the majority vote rule to consider all classes,\n",
        "and then classify a test point based on the class with the most votes."
      ]
    },
    {
      "cell_type": "code",
      "execution_count": null,
      "id": "280e2512",
      "metadata": {
        "id": "280e2512"
      },
      "outputs": [],
      "source": [
        "# Let's create labels for all angles\n",
        "labels = np.arange(len(angles))\n",
        "y = np.concatenate([np.full(num_reaches_per_angle, label) for label in labels])\n",
        "\n",
        "# Let's also randomly split the data into training and test sets.\n",
        "# We'll keep the same number of trials for each angle.\n",
        "n_train = int(0.8 * num_reaches_per_angle)  # 80% for training\n",
        "# Seed the random number generator for reproducibility\n",
        "np.random.seed(2)\n",
        "train_idxs = np.random.choice(num_reaches_per_angle, n_train, replace=False)\n",
        "# This function just returns the indices that are not already in the training set\n",
        "test_idxs = np.setdiff1d(np.arange(num_reaches_per_angle), train_idxs)\n",
        "\n",
        "# Train data\n",
        "X_train = Xplan_angles[:, train_idxs, :].reshape(-1, Xplan_angles.shape[2])\n",
        "y = y.reshape(num_angles, -1)\n",
        "y_train = y[:, train_idxs]\n",
        "y_train = y_train.reshape(-1)\n",
        "\n",
        "# Test data\n",
        "X_test = Xplan_angles[:, test_idxs, :].reshape(-1, Xplan_angles.shape[2])\n",
        "y_test = y[:, test_idxs]\n",
        "y_test = y_test.reshape(-1)"
      ]
    },
    {
      "cell_type": "markdown",
      "id": "2fa36b46",
      "metadata": {
        "id": "2fa36b46"
      },
      "source": [
        "Classify this 8-reach data with a KNN classifier"
      ]
    },
    {
      "cell_type": "code",
      "execution_count": null,
      "id": "76170b98",
      "metadata": {
        "id": "76170b98"
      },
      "outputs": [],
      "source": [
        "# Classify this 8-reach data with a KNN classifier\n",
        "knn_ND = KNNBase(k=30)\n",
        "knn_ND.distance = euclidean_distance\n",
        "knn_ND.fit(X_train, y_train)\n",
        "\n",
        "# Predict the labels for the train data\n",
        "y_pred_train = knn_ND.predict_batch(X_train)\n",
        "\n",
        "# Predict the labels for the test data\n",
        "y_pred_test = knn_ND.predict_batch(X_test)\n",
        "\n",
        "# Train accuracy\n",
        "acc_train = accuracy(y_train, y_pred_train)\n",
        "print(f'Train accuracy: {acc_train:.3f}')\n",
        "\n",
        "# Test accuracy\n",
        "acc_test = accuracy(y_test, y_pred_test)\n",
        "print(f'Test accuracy: {acc_test:.3f}')"
      ]
    },
    {
      "cell_type": "markdown",
      "id": "a65b3345",
      "metadata": {
        "id": "a65b3345"
      },
      "source": [
        "## Further reading <a name=\"further-reading\"></a>\n",
        "\n",
        "Scikit-Learn's methods:\n",
        "1. [Nearest Neighbors](https://scikit-learn.org/stable/modules/neighbors.html#nearest-neighbors-classification)\n",
        "2. [Logistic Regression](https://scikit-learn.org/stable/modules/linear_model.html#logistic-regression)\n",
        "\n",
        "Modern decoding applications:\n",
        "1. [High-performance brain-to-text communication via handwriting](https://www.nature.com/articles/s41586-021-03506-2)\n",
        "2. [A generic noninvasive neuromotor interface for human-computer interaction](https://www.biorxiv.org/content/10.1101/2024.02.23.581779v1)\n",
        "\n",
        "Textbook chapters:\n",
        "1. [Pattern Recognition and Machine Learning, Chapter 4](https://www.microsoft.com/en-us/research/wp-content/uploads/2006/01/Bishop-Pattern-Recognition-and-Machine-Learning-2006.pdf)\n",
        "2. [The Elements of Statistical Learning, Chapter 4](https://hastie.su.domains/ElemStatLearn/)"
      ]
    },
    {
      "cell_type": "markdown",
      "id": "6d80626e",
      "metadata": {
        "id": "6d80626e"
      },
      "source": [
        "### **About the author: Evren Gokcen**\n",
        "\n",
        "* Postdoctoral Researcher at Carnegie Mellon University, Pittsburgh, PA, USA\n",
        "* My research draws from machine learning, signal processing, and control to better understand how brain areas communicate and work together to perform computations.\n",
        "* Feel free to contact me: egokcen@cmu.edu\n",
        "* You can also find me on [GitHub](https://github.com/egokcen), [LinkedIn](https://www.linkedin.com/in/evrengokcen/), and [Google Scholar](https://scholar.google.com/citations?hl=en&user=fal6YjcAAAAJ)"
      ]
    }
  ],
  "metadata": {
    "colab": {
      "collapsed_sections": [
        "fbkNfeNCedVK"
      ],
      "provenance": [],
      "include_colab_link": true
    },
    "kernelspec": {
      "display_name": "Python 3 (ipykernel)",
      "language": "python",
      "name": "python3"
    },
    "language_info": {
      "codemirror_mode": {
        "name": "ipython",
        "version": 3
      },
      "file_extension": ".py",
      "mimetype": "text/x-python",
      "name": "python",
      "nbconvert_exporter": "python",
      "pygments_lexer": "ipython3",
      "version": "3.11.11"
    },
    "widgets": {
      "application/vnd.jupyter.widget-state+json": {
        "cfea94db500d4f5db661576d1f2c36cf": {
          "model_module": "@jupyter-widgets/controls",
          "model_name": "VBoxModel",
          "model_module_version": "1.5.0",
          "state": {
            "_dom_classes": [
              "widget-interact"
            ],
            "_model_module": "@jupyter-widgets/controls",
            "_model_module_version": "1.5.0",
            "_model_name": "VBoxModel",
            "_view_count": null,
            "_view_module": "@jupyter-widgets/controls",
            "_view_module_version": "1.5.0",
            "_view_name": "VBoxView",
            "box_style": "",
            "children": [
              "IPY_MODEL_98b28ba7eb764349b668d90d9e194f4f",
              "IPY_MODEL_ce7428b7a27e4624a246f8bdeb35c4c2"
            ],
            "layout": "IPY_MODEL_6a43147eefe0497986b3dd46c18fdca9"
          }
        },
        "98b28ba7eb764349b668d90d9e194f4f": {
          "model_module": "@jupyter-widgets/controls",
          "model_name": "FloatSliderModel",
          "model_module_version": "1.5.0",
          "state": {
            "_dom_classes": [],
            "_model_module": "@jupyter-widgets/controls",
            "_model_module_version": "1.5.0",
            "_model_name": "FloatSliderModel",
            "_view_count": null,
            "_view_module": "@jupyter-widgets/controls",
            "_view_module_version": "1.5.0",
            "_view_name": "FloatSliderView",
            "continuous_update": true,
            "description": "b",
            "description_tooltip": null,
            "disabled": false,
            "layout": "IPY_MODEL_7912baf2e5be44cba26cd6802fadc5a7",
            "max": 12,
            "min": 0,
            "orientation": "horizontal",
            "readout": true,
            "readout_format": ".2f",
            "step": 0.5,
            "style": "IPY_MODEL_d527c9e9788b45f2a5853eaabe69a39b",
            "value": 2.5
          }
        },
        "ce7428b7a27e4624a246f8bdeb35c4c2": {
          "model_module": "@jupyter-widgets/output",
          "model_name": "OutputModel",
          "model_module_version": "1.0.0",
          "state": {
            "_dom_classes": [],
            "_model_module": "@jupyter-widgets/output",
            "_model_module_version": "1.0.0",
            "_model_name": "OutputModel",
            "_view_count": null,
            "_view_module": "@jupyter-widgets/output",
            "_view_module_version": "1.0.0",
            "_view_name": "OutputView",
            "layout": "IPY_MODEL_add9f78b14674df382df6da352f20570",
            "msg_id": "",
            "outputs": [
              {
                "output_type": "display_data",
                "data": {
                  "text/plain": "<Figure size 600x500 with 1 Axes>",
                  "image/png": "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\n"
                },
                "metadata": {}
              }
            ]
          }
        },
        "6a43147eefe0497986b3dd46c18fdca9": {
          "model_module": "@jupyter-widgets/base",
          "model_name": "LayoutModel",
          "model_module_version": "1.2.0",
          "state": {
            "_model_module": "@jupyter-widgets/base",
            "_model_module_version": "1.2.0",
            "_model_name": "LayoutModel",
            "_view_count": null,
            "_view_module": "@jupyter-widgets/base",
            "_view_module_version": "1.2.0",
            "_view_name": "LayoutView",
            "align_content": null,
            "align_items": null,
            "align_self": null,
            "border": null,
            "bottom": null,
            "display": null,
            "flex": null,
            "flex_flow": null,
            "grid_area": null,
            "grid_auto_columns": null,
            "grid_auto_flow": null,
            "grid_auto_rows": null,
            "grid_column": null,
            "grid_gap": null,
            "grid_row": null,
            "grid_template_areas": null,
            "grid_template_columns": null,
            "grid_template_rows": null,
            "height": null,
            "justify_content": null,
            "justify_items": null,
            "left": null,
            "margin": null,
            "max_height": null,
            "max_width": null,
            "min_height": null,
            "min_width": null,
            "object_fit": null,
            "object_position": null,
            "order": null,
            "overflow": null,
            "overflow_x": null,
            "overflow_y": null,
            "padding": null,
            "right": null,
            "top": null,
            "visibility": null,
            "width": null
          }
        },
        "7912baf2e5be44cba26cd6802fadc5a7": {
          "model_module": "@jupyter-widgets/base",
          "model_name": "LayoutModel",
          "model_module_version": "1.2.0",
          "state": {
            "_model_module": "@jupyter-widgets/base",
            "_model_module_version": "1.2.0",
            "_model_name": "LayoutModel",
            "_view_count": null,
            "_view_module": "@jupyter-widgets/base",
            "_view_module_version": "1.2.0",
            "_view_name": "LayoutView",
            "align_content": null,
            "align_items": null,
            "align_self": null,
            "border": null,
            "bottom": null,
            "display": null,
            "flex": null,
            "flex_flow": null,
            "grid_area": null,
            "grid_auto_columns": null,
            "grid_auto_flow": null,
            "grid_auto_rows": null,
            "grid_column": null,
            "grid_gap": null,
            "grid_row": null,
            "grid_template_areas": null,
            "grid_template_columns": null,
            "grid_template_rows": null,
            "height": null,
            "justify_content": null,
            "justify_items": null,
            "left": null,
            "margin": null,
            "max_height": null,
            "max_width": null,
            "min_height": null,
            "min_width": null,
            "object_fit": null,
            "object_position": null,
            "order": null,
            "overflow": null,
            "overflow_x": null,
            "overflow_y": null,
            "padding": null,
            "right": null,
            "top": null,
            "visibility": null,
            "width": null
          }
        },
        "d527c9e9788b45f2a5853eaabe69a39b": {
          "model_module": "@jupyter-widgets/controls",
          "model_name": "SliderStyleModel",
          "model_module_version": "1.5.0",
          "state": {
            "_model_module": "@jupyter-widgets/controls",
            "_model_module_version": "1.5.0",
            "_model_name": "SliderStyleModel",
            "_view_count": null,
            "_view_module": "@jupyter-widgets/base",
            "_view_module_version": "1.2.0",
            "_view_name": "StyleView",
            "description_width": "",
            "handle_color": null
          }
        },
        "add9f78b14674df382df6da352f20570": {
          "model_module": "@jupyter-widgets/base",
          "model_name": "LayoutModel",
          "model_module_version": "1.2.0",
          "state": {
            "_model_module": "@jupyter-widgets/base",
            "_model_module_version": "1.2.0",
            "_model_name": "LayoutModel",
            "_view_count": null,
            "_view_module": "@jupyter-widgets/base",
            "_view_module_version": "1.2.0",
            "_view_name": "LayoutView",
            "align_content": null,
            "align_items": null,
            "align_self": null,
            "border": null,
            "bottom": null,
            "display": null,
            "flex": null,
            "flex_flow": null,
            "grid_area": null,
            "grid_auto_columns": null,
            "grid_auto_flow": null,
            "grid_auto_rows": null,
            "grid_column": null,
            "grid_gap": null,
            "grid_row": null,
            "grid_template_areas": null,
            "grid_template_columns": null,
            "grid_template_rows": null,
            "height": null,
            "justify_content": null,
            "justify_items": null,
            "left": null,
            "margin": null,
            "max_height": null,
            "max_width": null,
            "min_height": null,
            "min_width": null,
            "object_fit": null,
            "object_position": null,
            "order": null,
            "overflow": null,
            "overflow_x": null,
            "overflow_y": null,
            "padding": null,
            "right": null,
            "top": null,
            "visibility": null,
            "width": null
          }
        },
        "edcb7c5c6bd2476fb54e9f80751769d9": {
          "model_module": "@jupyter-widgets/controls",
          "model_name": "VBoxModel",
          "model_module_version": "1.5.0",
          "state": {
            "_dom_classes": [
              "widget-interact"
            ],
            "_model_module": "@jupyter-widgets/controls",
            "_model_module_version": "1.5.0",
            "_model_name": "VBoxModel",
            "_view_count": null,
            "_view_module": "@jupyter-widgets/controls",
            "_view_module_version": "1.5.0",
            "_view_name": "VBoxView",
            "box_style": "",
            "children": [
              "IPY_MODEL_3487c6f3b566431bbb58cb5c8664cb28",
              "IPY_MODEL_fe4b9edc8e234a8c84ed9f4cfb51454f",
              "IPY_MODEL_e38e96c5ca884a72a3f374ddc907b331"
            ],
            "layout": "IPY_MODEL_e7732d720f944916bc04454a19dac1ca"
          }
        },
        "3487c6f3b566431bbb58cb5c8664cb28": {
          "model_module": "@jupyter-widgets/controls",
          "model_name": "FloatSliderModel",
          "model_module_version": "1.5.0",
          "state": {
            "_dom_classes": [],
            "_model_module": "@jupyter-widgets/controls",
            "_model_module_version": "1.5.0",
            "_model_name": "FloatSliderModel",
            "_view_count": null,
            "_view_module": "@jupyter-widgets/controls",
            "_view_module_version": "1.5.0",
            "_view_name": "FloatSliderView",
            "continuous_update": true,
            "description": "w",
            "description_tooltip": null,
            "disabled": false,
            "layout": "IPY_MODEL_285ba698a0e04e259f9155ecb0fa8e89",
            "max": 2,
            "min": -2,
            "orientation": "horizontal",
            "readout": true,
            "readout_format": ".2f",
            "step": 0.1,
            "style": "IPY_MODEL_8a3d226eb25f4ee383987c8cbea413ce",
            "value": -1.3
          }
        },
        "fe4b9edc8e234a8c84ed9f4cfb51454f": {
          "model_module": "@jupyter-widgets/controls",
          "model_name": "FloatSliderModel",
          "model_module_version": "1.5.0",
          "state": {
            "_dom_classes": [],
            "_model_module": "@jupyter-widgets/controls",
            "_model_module_version": "1.5.0",
            "_model_name": "FloatSliderModel",
            "_view_count": null,
            "_view_module": "@jupyter-widgets/controls",
            "_view_module_version": "1.5.0",
            "_view_name": "FloatSliderView",
            "continuous_update": true,
            "description": "b",
            "description_tooltip": null,
            "disabled": false,
            "layout": "IPY_MODEL_cd6fe832352c448b852062e9cc6a5db2",
            "max": 15,
            "min": 0,
            "orientation": "horizontal",
            "readout": true,
            "readout_format": ".2f",
            "step": 0.5,
            "style": "IPY_MODEL_374b0e399bd54ef387aa8685825249c6",
            "value": 9
          }
        },
        "e38e96c5ca884a72a3f374ddc907b331": {
          "model_module": "@jupyter-widgets/output",
          "model_name": "OutputModel",
          "model_module_version": "1.0.0",
          "state": {
            "_dom_classes": [],
            "_model_module": "@jupyter-widgets/output",
            "_model_module_version": "1.0.0",
            "_model_name": "OutputModel",
            "_view_count": null,
            "_view_module": "@jupyter-widgets/output",
            "_view_module_version": "1.0.0",
            "_view_name": "OutputView",
            "layout": "IPY_MODEL_73f945f78b2644a39462a7f00da579cb",
            "msg_id": "",
            "outputs": [
              {
                "output_type": "display_data",
                "data": {
                  "text/plain": "<Figure size 800x500 with 1 Axes>",
                  "image/png": "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\n"
                },
                "metadata": {}
              }
            ]
          }
        },
        "e7732d720f944916bc04454a19dac1ca": {
          "model_module": "@jupyter-widgets/base",
          "model_name": "LayoutModel",
          "model_module_version": "1.2.0",
          "state": {
            "_model_module": "@jupyter-widgets/base",
            "_model_module_version": "1.2.0",
            "_model_name": "LayoutModel",
            "_view_count": null,
            "_view_module": "@jupyter-widgets/base",
            "_view_module_version": "1.2.0",
            "_view_name": "LayoutView",
            "align_content": null,
            "align_items": null,
            "align_self": null,
            "border": null,
            "bottom": null,
            "display": null,
            "flex": null,
            "flex_flow": null,
            "grid_area": null,
            "grid_auto_columns": null,
            "grid_auto_flow": null,
            "grid_auto_rows": null,
            "grid_column": null,
            "grid_gap": null,
            "grid_row": null,
            "grid_template_areas": null,
            "grid_template_columns": null,
            "grid_template_rows": null,
            "height": null,
            "justify_content": null,
            "justify_items": null,
            "left": null,
            "margin": null,
            "max_height": null,
            "max_width": null,
            "min_height": null,
            "min_width": null,
            "object_fit": null,
            "object_position": null,
            "order": null,
            "overflow": null,
            "overflow_x": null,
            "overflow_y": null,
            "padding": null,
            "right": null,
            "top": null,
            "visibility": null,
            "width": null
          }
        },
        "285ba698a0e04e259f9155ecb0fa8e89": {
          "model_module": "@jupyter-widgets/base",
          "model_name": "LayoutModel",
          "model_module_version": "1.2.0",
          "state": {
            "_model_module": "@jupyter-widgets/base",
            "_model_module_version": "1.2.0",
            "_model_name": "LayoutModel",
            "_view_count": null,
            "_view_module": "@jupyter-widgets/base",
            "_view_module_version": "1.2.0",
            "_view_name": "LayoutView",
            "align_content": null,
            "align_items": null,
            "align_self": null,
            "border": null,
            "bottom": null,
            "display": null,
            "flex": null,
            "flex_flow": null,
            "grid_area": null,
            "grid_auto_columns": null,
            "grid_auto_flow": null,
            "grid_auto_rows": null,
            "grid_column": null,
            "grid_gap": null,
            "grid_row": null,
            "grid_template_areas": null,
            "grid_template_columns": null,
            "grid_template_rows": null,
            "height": null,
            "justify_content": null,
            "justify_items": null,
            "left": null,
            "margin": null,
            "max_height": null,
            "max_width": null,
            "min_height": null,
            "min_width": null,
            "object_fit": null,
            "object_position": null,
            "order": null,
            "overflow": null,
            "overflow_x": null,
            "overflow_y": null,
            "padding": null,
            "right": null,
            "top": null,
            "visibility": null,
            "width": null
          }
        },
        "8a3d226eb25f4ee383987c8cbea413ce": {
          "model_module": "@jupyter-widgets/controls",
          "model_name": "SliderStyleModel",
          "model_module_version": "1.5.0",
          "state": {
            "_model_module": "@jupyter-widgets/controls",
            "_model_module_version": "1.5.0",
            "_model_name": "SliderStyleModel",
            "_view_count": null,
            "_view_module": "@jupyter-widgets/base",
            "_view_module_version": "1.2.0",
            "_view_name": "StyleView",
            "description_width": "",
            "handle_color": null
          }
        },
        "cd6fe832352c448b852062e9cc6a5db2": {
          "model_module": "@jupyter-widgets/base",
          "model_name": "LayoutModel",
          "model_module_version": "1.2.0",
          "state": {
            "_model_module": "@jupyter-widgets/base",
            "_model_module_version": "1.2.0",
            "_model_name": "LayoutModel",
            "_view_count": null,
            "_view_module": "@jupyter-widgets/base",
            "_view_module_version": "1.2.0",
            "_view_name": "LayoutView",
            "align_content": null,
            "align_items": null,
            "align_self": null,
            "border": null,
            "bottom": null,
            "display": null,
            "flex": null,
            "flex_flow": null,
            "grid_area": null,
            "grid_auto_columns": null,
            "grid_auto_flow": null,
            "grid_auto_rows": null,
            "grid_column": null,
            "grid_gap": null,
            "grid_row": null,
            "grid_template_areas": null,
            "grid_template_columns": null,
            "grid_template_rows": null,
            "height": null,
            "justify_content": null,
            "justify_items": null,
            "left": null,
            "margin": null,
            "max_height": null,
            "max_width": null,
            "min_height": null,
            "min_width": null,
            "object_fit": null,
            "object_position": null,
            "order": null,
            "overflow": null,
            "overflow_x": null,
            "overflow_y": null,
            "padding": null,
            "right": null,
            "top": null,
            "visibility": null,
            "width": null
          }
        },
        "374b0e399bd54ef387aa8685825249c6": {
          "model_module": "@jupyter-widgets/controls",
          "model_name": "SliderStyleModel",
          "model_module_version": "1.5.0",
          "state": {
            "_model_module": "@jupyter-widgets/controls",
            "_model_module_version": "1.5.0",
            "_model_name": "SliderStyleModel",
            "_view_count": null,
            "_view_module": "@jupyter-widgets/base",
            "_view_module_version": "1.2.0",
            "_view_name": "StyleView",
            "description_width": "",
            "handle_color": null
          }
        },
        "73f945f78b2644a39462a7f00da579cb": {
          "model_module": "@jupyter-widgets/base",
          "model_name": "LayoutModel",
          "model_module_version": "1.2.0",
          "state": {
            "_model_module": "@jupyter-widgets/base",
            "_model_module_version": "1.2.0",
            "_model_name": "LayoutModel",
            "_view_count": null,
            "_view_module": "@jupyter-widgets/base",
            "_view_module_version": "1.2.0",
            "_view_name": "LayoutView",
            "align_content": null,
            "align_items": null,
            "align_self": null,
            "border": null,
            "bottom": null,
            "display": null,
            "flex": null,
            "flex_flow": null,
            "grid_area": null,
            "grid_auto_columns": null,
            "grid_auto_flow": null,
            "grid_auto_rows": null,
            "grid_column": null,
            "grid_gap": null,
            "grid_row": null,
            "grid_template_areas": null,
            "grid_template_columns": null,
            "grid_template_rows": null,
            "height": null,
            "justify_content": null,
            "justify_items": null,
            "left": null,
            "margin": null,
            "max_height": null,
            "max_width": null,
            "min_height": null,
            "min_width": null,
            "object_fit": null,
            "object_position": null,
            "order": null,
            "overflow": null,
            "overflow_x": null,
            "overflow_y": null,
            "padding": null,
            "right": null,
            "top": null,
            "visibility": null,
            "width": null
          }
        }
      }
    }
  },
  "nbformat": 4,
  "nbformat_minor": 5
}